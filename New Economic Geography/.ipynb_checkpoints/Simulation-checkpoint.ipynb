{
 "cells": [
  {
   "cell_type": "markdown",
   "metadata": {},
   "source": [
    "# The Core-Periphery Model\n",
    "*Assignment I for TI field course ‘Spatial Economics’ (2021–2022)*\n",
    "\n",
    "The core model of the new economic geography was developed by the Nobel Prize winner Paul Krugman in the early 1990s. The key reference is Krugman (1991).1 The model studies the location of industrial activity in a two-region context. The spatial allocation of agricultural activity is taken as exogenously given. The industrial sector that is subject to increasing returns to scale is modeled by means of the Dixit-Stiglitz model of monopolistic competition. The model is very elegant and parsimonious, but it is impossible to solve it analytically due to its highly non-linear nature.\n",
    "\n",
    "Solving a highly non-linear system of equations as the one that is derived in Chapter 3 of Brakman et al. is difficult. However, in order to properly characterize the equilibrium of the model a solution is of course required, and this requires simulation. Luckily, the computer nowadays provides us with possibilities for solving complex non-linear models. As Brakman et al. rightly emphasize in their book, the actual development of a simulation model often remains implicit in many research papers; their book is an important exception in that respect. Solving highly non-linear systems of equations can be done in several ways. Brakman et al. use Gauss, a powerful but not very user-friendly programming language. An alternative that is somewhat more user-friendly but that still requires familiarity with programming languages is R, GAMS or Python. We have developed a simple simulation script in Python to solve the core-periphery model, and this tool is at the heart of this assignment.\n",
    "\n",
    "The aim of this assignment is that you (i) familiarize yourself with the simulation approach to the Core-Periphery model and (ii) get insight in the forces that determine agglomeration and in the outcomes of the model. It complements parts of chapter 4 of the textbook The New Introduction to Geographical Economics by Brakman et al."
   ]
  },
  {
   "cell_type": "markdown",
   "metadata": {},
   "source": [
    "## Importing packages\n",
    "\n",
    "We start by importing the necessary libraries, which in this case are Pandas, Numpy and Plotnine. We decided to make use of Plotnine as a Python euqivalent of the R library GGplot due to its good diagrams and ease of use. Furthermore, to solve the non linear equations of the simulation from the Scipy.optimize library."
   ]
  },
  {
   "cell_type": "code",
   "execution_count": 1,
   "metadata": {},
   "outputs": [],
   "source": [
    "from plotnine import *\n",
    "from scipy.optimize import fsolve\n",
    "import numpy as np\n",
    "import pandas as pd"
   ]
  },
  {
   "cell_type": "markdown",
   "metadata": {},
   "source": [
    "## Calibrating the parameters.\n",
    "\n",
    "We set the initial parameters to the desired values to represent the two regions we want to analyse. We also set the simulation parameters to fix when it start and finishes, and the size of each step."
   ]
  },
  {
   "cell_type": "markdown",
   "metadata": {},
   "source": [
    "### Parametrization\n",
    "Each group will make the exercises in this assignment for a specific parametrization of the model:"
   ]
  },
  {
   "cell_type": "markdown",
   "metadata": {},
   "source": [
    "Group 1: δ = 0.35; ρ = 0.70; Τ = 1.6."
   ]
  },
  {
   "cell_type": "markdown",
   "metadata": {},
   "source": [
    "Group 2: δ = 0.35; ρ = 0.75; Τ = 1.9. "
   ]
  },
  {
   "cell_type": "markdown",
   "metadata": {},
   "source": [
    "Group 3: δ = 0.35; ρ = 0.80; Τ = 2.2. "
   ]
  },
  {
   "cell_type": "markdown",
   "metadata": {},
   "source": [
    "Group 4: δ = 0.40; ρ = 0.70; Τ = 1.9. "
   ]
  },
  {
   "cell_type": "markdown",
   "metadata": {},
   "source": [
    "Group 5: δ = 0.40; ρ = 0.75; Τ = 2.4. "
   ]
  },
  {
   "cell_type": "markdown",
   "metadata": {},
   "source": [
    "Group 6: δ = 0.40; ρ = 0.80; Τ = 2.2. "
   ]
  },
  {
   "cell_type": "markdown",
   "metadata": {},
   "source": [
    "Group 7: δ = 0.45; ρ = 0.70; Τ = 1.9. "
   ]
  },
  {
   "cell_type": "markdown",
   "metadata": {},
   "source": [
    "Group 8: δ = 0.45; ρ = 0.75; Τ = 2.2. "
   ]
  },
  {
   "cell_type": "markdown",
   "metadata": {},
   "source": [
    "Group 9: δ = 0.45; ρ = 0.80; Τ = 1.9. "
   ]
  },
  {
   "cell_type": "markdown",
   "metadata": {},
   "source": [
    "Group 10: δ = 0.45; ρ = 0.70; Τ = 2.4."
   ]
  },
  {
   "cell_type": "code",
   "execution_count": 2,
   "metadata": {},
   "outputs": [],
   "source": [
    "L = 2.0        # T = Total labor force, from here onwards called L\n",
    "phi1 = 0.5    # fraction of agricultural workers living in region 1\n",
    "phi2 = 1 - phi1\n",
    "gam = 0.3      # gamma = fraction that works in manufacturing\n",
    "eps = 5.0      # epsilon = elasticity of demand\n",
    "rho = 0.8     # rho = substitution parameter of variety\n",
    "bet = 0.8      # beta = variable costs\n",
    "alp = 0.08     # alpha = fixed costs\n",
    "delta = 0.4    # delta = budget share manufacturing\n",
    "\n",
    "\n",
    "iter_l = 999\n",
    "step_l = 0.001\n",
    "start_l = 0.001\n",
    "\n",
    "iter_th = 51\n",
    "start_th = 1.5\n",
    "step_th = 0.01\n",
    "\n",
    "start = [1, 1, 1, 1, 1, 1]"
   ]
  },
  {
   "cell_type": "markdown",
   "metadata": {},
   "source": [
    "## Long-run Equilibrium Equations\n",
    "\n",
    "To solve the non-linear equations from the literature, we make use of a separate function that we code. This simplifies the upcoming loop."
   ]
  },
  {
   "cell_type": "code",
   "execution_count": 3,
   "metadata": {},
   "outputs": [],
   "source": [
    "def equilibrium(vector_input, phi1, gam, lam, L, rho, bet, delta, alp, eps, T):\n",
    "    Income_1, Income_2, Wage_Rate_1, W2, I1, I2 = vector_input\n",
    "    Results = [Income_1 - phi1 * (1 - gam) * L - lam * gam * L * Wage_Rate_1,\n",
    "               Income_2 - phi2 * (1 - gam) * L - (1 - lam) * gam * L * W2,\n",
    "               Wage_Rate_1 - rho * bet ** (-rho) * (delta / (alp * (eps - 1))) ** (1 / eps) *\n",
    "               (Income_1 * I1 ** (eps - 1) + T ** (1 - eps) * Income_2 * I2 ** (eps - 1)) ** (1 / eps),\n",
    "               W2 - rho * bet ** (-rho) * (delta / (alp * (eps - 1))) ** (1 / eps) *\n",
    "               (T ** (1 - eps) * Income_1 * I1 ** (eps - 1) + Income_2 * I2 ** (eps - 1)) ** (1 / eps),\n",
    "               I1 - (gam * L / (alp * eps)) ** (1 / (1 - eps)) * (bet / rho) *\n",
    "               (lam * Wage_Rate_1 ** (1 - eps) + (1 - lam) * T ** (1 - eps) * W2 ** (1 - eps)) ** (1 / (1 - eps)),\n",
    "               I2 - (gam * L / (alp * eps)) ** (1 / (1 - eps)) * (bet / rho) *\n",
    "               (lam * T ** (1 - eps) * Wage_Rate_1 ** (1 - eps) + (1 - lam) * W2 ** (1 - eps)) ** (1 / (1 - eps))]\n",
    "    return Results"
   ]
  },
  {
   "cell_type": "markdown",
   "metadata": {},
   "source": [
    "## Main function\n",
    "\n",
    "Finally, we start developing the main function. Due to Jupyter's nature, we do not structure it as a proper function but as a script that executes immediately.\n",
    "\n",
    "### Creating the vectors\n",
    "\n",
    "First, we need to create empty vectors that we will fill iteratively and an empty dataframe that will be filled with the equilibrium data to generate the tomahawk diagram."
   ]
  },
  {
   "cell_type": "code",
   "execution_count": 4,
   "metadata": {},
   "outputs": [],
   "source": [
    "rel = np.array([])\n",
    "lamb = np.array([])\n",
    "transport = np.array([])\n",
    "welfare = np.array([])\n",
    "w_man_h = np.array([])\n",
    "w_man_f = np.array([])\n",
    "w_farm_h = np.array([])\n",
    "w_farm_f = np.array([])\n",
    "\n",
    "equilibria = pd.DataFrame({'t_vec': pd.Series(dtype='float'),\n",
    "                   'lam_vec': pd.Series(dtype='float'),\n",
    "                   'stable': pd.Series(dtype='float')})\n",
    "\n",
    "iteration = 0"
   ]
  },
  {
   "cell_type": "markdown",
   "metadata": {},
   "source": [
    "### Finding the values\n",
    "\n",
    "Now, we start the loop that will generate the values of each vector and the equilibria DataFrame"
   ]
  },
  {
   "cell_type": "code",
   "execution_count": 5,
   "metadata": {},
   "outputs": [],
   "source": [
    "for i in np.arange(start_th, start_th + iter_th * step_th, step_th):\n",
    "    iter_eq = 0\n",
    "    lam_vec = np.array([])\n",
    "    t_vec = np.array([])\n",
    "    rel_vec = np.array([])\n",
    "    \n",
    "    for lam in np.arange(start_l, start_l + iter_l * step_l - step_l, step_l):\n",
    "        opt = fsolve(equilibrium, start, (phi1, gam, lam, L, rho, bet, delta, alp, eps, i))\n",
    "        Y1 = opt[0]\n",
    "        Y2 = opt[1]\n",
    "        W1 = opt[2]\n",
    "        W2 = opt[3]\n",
    "        I1 = opt[4]\n",
    "        I2 = opt[5]\n",
    "\n",
    "        rel = np.append(rel, (W1 / I1 ** delta) / (W2 / I2 ** delta))\n",
    "        welfare = np.append(welfare, Y1 / (I1 ** delta) + Y2 / (I2 ** delta))\n",
    "        w_man_h = np.append(w_man_h, W1 / I1 ** delta)\n",
    "        w_man_f = np.append(w_man_f, W2 / I2 ** delta)\n",
    "        w_farm_h = np.append(w_farm_h, 1 / I1 ** delta)\n",
    "        w_farm_f = np.append(w_farm_f, 1 / I2 ** delta)\n",
    "        lamb = np.append(lamb, lam)\n",
    "        transport = np.append(transport, i)\n",
    "\n",
    "        lam_vec = np.append(lam_vec, lam)\n",
    "        t_vec = np.append(t_vec, i)\n",
    "        rel_vec = np.append(rel_vec, (W1 / (I1 ** delta)) / (W2 / (I2 ** delta)))\n",
    "        iter_eq += 1\n",
    "        iteration += 1\n",
    "\n",
    "    eq = pd.DataFrame(np.vstack((t_vec, lam_vec, rel_vec)).T, columns=['t_vec', 'lam_vec', 'rel_vec'])\n",
    "\n",
    "    for j in eq.itertuples():\n",
    "        if j.Index == 0:\n",
    "            eq.at[j.Index, 'dpos'] = 0\n",
    "        elif eq.at[j.Index, 'rel_vec'] >= 1 and (eq.at[j.Index - 1, 'rel_vec'] < 1):\n",
    "            eq.at[j.Index, 'dpos'] = 1\n",
    "        else:\n",
    "            eq.at[j.Index, 'dpos'] = 0\n",
    "    for j in eq.itertuples():\n",
    "        if j.Index == 0:\n",
    "            eq.at[j.Index, 'dneg'] = 0\n",
    "        elif eq.at[j.Index, 'rel_vec'] <= 1 and (eq.at[j.Index - 1, 'rel_vec'] > 1):\n",
    "            eq.at[j.Index, 'dneg'] = 1\n",
    "        else:\n",
    "            eq.at[j.Index, 'dneg'] = 0\n",
    "\n",
    "    stable = eq.loc[eq.dneg == 1].copy()\n",
    "    stable.reset_index()\n",
    "    del stable['dpos']\n",
    "    del stable['dneg']\n",
    "    del stable['rel_vec']\n",
    "    for j in stable.itertuples():\n",
    "        stable.at[j.Index, 'stable'] = 1\n",
    "        \n",
    "    unstable = eq.loc[eq.dpos == 1].copy()\n",
    "    unstable.reset_index()\n",
    "    del unstable['dneg']\n",
    "    del unstable['dpos']\n",
    "    del unstable['rel_vec']\n",
    "    for j in unstable.itertuples():\n",
    "        unstable.at[j.Index, 'stable'] = 0\n",
    "    \n",
    "    if len(stable) > 0:\n",
    "        equilibria = pd.concat([equilibria, stable], ignore_index=True)\n",
    " \n",
    "    if len(unstable) > 0:\n",
    "        equilibria = pd.concat([equilibria, unstable], ignore_index=True)\n",
    "        \n",
    "    if len(unstable) == 1:\n",
    "        placeholder = unstable.iloc[0]['t_vec']\n",
    "        equilibria.loc[equilibria.shape[0]] = [placeholder, 0, 1]\n",
    "        equilibria.loc[equilibria.shape[0]] = [placeholder, 1, 1]\n",
    "        \n",
    "    if len(unstable) == 1 & len(stable) == 1:\n",
    "        if stable.iloc[0]['lam_vec'] > unstable.iloc[0]['lam_vec']:\n",
    "            placeholder = unstable.iloc[0]['t_vec']\n",
    "            equilibria.loc[equilibria.shape[0]] = [placeholder, 0, 1]\n",
    "        if stable.iloc[0]['lam_vec'] < unstable.iloc[0]['lam_vec']:\n",
    "            placeholder = unstable.iloc[0]['t_vec']\n",
    "            equilibria.loc[equilibria.shape[0]] = [placeholder, 1, 1]\n",
    "            \n",
    "    if len(unstable) + len(stable) == 3:\n",
    "        placeholder = unstable.iloc[0]['t_vec']\n",
    "        equilibria.loc[equilibria.shape[0]] = [placeholder, 1, 1]\n",
    "        equilibria.loc[equilibria.shape[0]] = [placeholder, 0, 1]\n",
    "\n",
    "neg_data = pd.DataFrame(np.vstack((transport, lamb, rel, welfare, w_man_h, w_man_f, w_farm_h, w_farm_f)).T,\n",
    "                        columns=['transport', 'lamb', 'rel', 'welfare', 'w_man_h', 'w_man_f', 'w_farm_h', \n",
    "                                 'w_farm_f'])"
   ]
  },
  {
   "cell_type": "markdown",
   "metadata": {},
   "source": [
    "Before we proceed, we need to round up some values to two decimals to faciliate the creation of the diagrams"
   ]
  },
  {
   "cell_type": "code",
   "execution_count": 6,
   "metadata": {},
   "outputs": [],
   "source": [
    "neg_data['transport'] = neg_data['transport'].round(decimals = 2)"
   ]
  },
  {
   "cell_type": "markdown",
   "metadata": {},
   "source": [
    "Now, we clasifiy the vectors into three different lines to compare the dynamics at differnt transportation costs."
   ]
  },
  {
   "cell_type": "code",
   "execution_count": 7,
   "metadata": {},
   "outputs": [],
   "source": [
    "top_line = neg_data.loc[neg_data.transport == 1.5].copy()\n",
    "bottom_line = neg_data.loc[neg_data.transport == 2.00].copy()\n",
    "mid_line = neg_data[neg_data.transport == 1.75].copy()"
   ]
  },
  {
   "cell_type": "markdown",
   "metadata": {},
   "source": [
    "### Plotting\n",
    "\n",
    "Finally, we plot the two diagrams to observe the dynamics. "
   ]
  },
  {
   "cell_type": "code",
   "execution_count": 8,
   "metadata": {
    "scrolled": false
   },
   "outputs": [
    {
     "data": {
      "image/png": "[encoded data removed]",
      "text/plain": [
       "<Figure size 640x480 with 1 Axes>"
      ]
     },
     "metadata": {},
     "output_type": "display_data"
    },
    {
     "data": {
      "text/plain": [
       "<ggplot: (8792774848618)>"
      ]
     },
     "execution_count": 8,
     "metadata": {},
     "output_type": "execute_result"
    }
   ],
   "source": [
    "(\n",
    "ggplot(equilibria) + aes(x = 't_vec', y = 'lam_vec') + \n",
    "    geom_point(aes(colour = 'factor(stable)')) + \n",
    "    labs(title =\"Tomahawk\", y = \"lambda\", x = \"transportation costs\")\n",
    ")"
   ]
  },
  {
   "cell_type": "code",
   "execution_count": 9,
   "metadata": {},
   "outputs": [
    {
     "data": {
      "image/png": "[encoded data removed]",
      "text/plain": [
       "<Figure size 640x480 with 1 Axes>"
      ]
     },
     "metadata": {},
     "output_type": "display_data"
    },
    {
     "data": {
      "text/plain": [
       "<ggplot: (8792775457160)>"
      ]
     },
     "execution_count": 9,
     "metadata": {},
     "output_type": "execute_result"
    }
   ],
   "source": [
    "(\n",
    "ggplot(neg_data) + geom_line(data = top_line, mapping=aes(x = 'lamb', y = 'rel'), color='blue') + \n",
    "    geom_line(data = bottom_line, mapping=aes(x = 'lamb', y = 'rel'), color='green') + \n",
    "    geom_line(data = mid_line, mapping=aes(x = 'lamb', y = 'rel')) + geom_hline(yintercept = 1, colour = \"red\") +\n",
    "    labs(title =\"Wiggle diagram\", y = \"Relative real wage\", x = 'Lambda', )\n",
    ")"
   ]
  },
  {
   "cell_type": "markdown",
   "metadata": {},
   "source": [
    "Good luck,  \n",
    "\n",
    "Andrés Guzmán Cordero."
   ]
  }
 ],
 "metadata": {
  "kernelspec": {
   "display_name": "Python [conda env:RA] *",
   "language": "python",
   "name": "conda-env-RA-py"
  },
  "language_info": {
   "codemirror_mode": {
    "name": "ipython",
    "version": 3
   },
   "file_extension": ".py",
   "mimetype": "text/x-python",
   "name": "python",
   "nbconvert_exporter": "python",
   "pygments_lexer": "ipython3",
   "version": "3.9.12"
  }
 },
 "nbformat": 4,
 "nbformat_minor": 1
}
