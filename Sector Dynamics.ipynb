{
 "cells": [
  {
   "cell_type": "code",
   "execution_count": null,
   "id": "0279ca02",
   "metadata": {},
   "outputs": [],
   "source": [
    "import pandas as pd\n",
    "import matplotlib.pyplot as plt"
   ]
  },
  {
   "cell_type": "code",
   "execution_count": null,
   "id": "1964c573",
   "metadata": {},
   "outputs": [],
   "source": [
    "pathway = ''\n",
    "Sector_df = pd.read_csv(f'{pathway}')"
   ]
  },
  {
   "cell_type": "code",
   "execution_count": null,
   "id": "d7c9bbae",
   "metadata": {},
   "outputs": [],
   "source": [
    "del Sector_df['Flag Codes']\n",
    "del Sector_df['INDICATOR']\n",
    "Value_df = Sector_df[Sector_df['MEASURE'] != 'AGRWTH'].copy()\n",
    "Growth_df = Sector_df[Sector_df['MEASURE'] != 'PC_VA'].copy()\n",
    "del Value_df['MEASURE'], Growth_df['MEASURE'], Value_df['FREQUENCY'], Growth_df['FREQUENCY']"
   ]
  },
  {
   "cell_type": "code",
   "execution_count": null,
   "id": "e393eff3",
   "metadata": {},
   "outputs": [],
   "source": [
    "Value_df.set_index('TIME', inplace=True)\n",
    "Value_df.groupby(['LOCATION', 'SUBJECT'])['Value'].plot(legend=True)\n",
    "plt.show()"
   ]
  }
 ],
 "metadata": {
  "kernelspec": {
   "display_name": "Python [conda env:RA] *",
   "language": "python",
   "name": "conda-env-RA-py"
  },
  "language_info": {
   "codemirror_mode": {
    "name": "ipython",
    "version": 3
   },
   "file_extension": ".py",
   "mimetype": "text/x-python",
   "name": "python",
   "nbconvert_exporter": "python",
   "pygments_lexer": "ipython3",
   "version": "3.9.12"
  }
 },
 "nbformat": 4,
 "nbformat_minor": 5
}
