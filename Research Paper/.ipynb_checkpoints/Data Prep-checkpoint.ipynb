{
 "cells": [
  {
   "cell_type": "code",
   "execution_count": 1,
   "id": "a1982ef6",
   "metadata": {},
   "outputs": [],
   "source": [
    "import pandas as pd\n",
    "import numpy as np"
   ]
  },
  {
   "cell_type": "markdown",
   "id": "b7aa0b20",
   "metadata": {},
   "source": [
    "## Functions"
   ]
  },
  {
   "cell_type": "code",
   "execution_count": 2,
   "id": "bd94ffa1",
   "metadata": {},
   "outputs": [],
   "source": [
    "def dropper(df):\n",
    "    nan_value = float(\"NaN\")\n",
    "    df.replace(0.0, nan_value, inplace=True)\n",
    "    return df"
   ]
  },
  {
   "cell_type": "code",
   "execution_count": 3,
   "id": "2efc388d",
   "metadata": {},
   "outputs": [],
   "source": [
    "def formatter(input_df):\n",
    "    df = input_df\n",
    "    del df['ID']\n",
    "    df.columns = ['Origin', 'Destination', 'Year', 'Commuters', 'Distance']\n",
    "    df['Origin'] = df['Origin'].map(lambda x: x.lstrip('GM'))\n",
    "    df['Destination'] = df['Destination'].map(lambda x: x.lstrip('GM'))\n",
    "    df = dropper(df)\n",
    "    df.dropna(subset=[\"Commuters\"], inplace=True)\n",
    "    df = df.reset_index()\n",
    "    del df['index']\n",
    "    for row in df.iterrows():\n",
    "        X = row[1]['Year']\n",
    "        X = X.split('MM')[0]\n",
    "        Y = row[1]['Commuters']\n",
    "        Y = Y * 1000\n",
    "        df.at[row[0], 'Year'] = X\n",
    "        df.at[row[0], 'Commuters'] = Y\n",
    "    df['Origin'] = df['Origin'].astype(int)\n",
    "    df['Destination'] = df['Destination'].astype(int)\n",
    "    df['Distance'] = df['Distance'].str.split().str.get(-1)\n",
    "    df['Distance'] = pd.to_numeric(df['Distance'], errors='coerce')\n",
    "    df['Distance'] = df['Distance'].astype(float)\n",
    "    return df"
   ]
  },
  {
   "cell_type": "code",
   "execution_count": 4,
   "id": "18ecdd7a",
   "metadata": {},
   "outputs": [],
   "source": [
    "def commuting_matrix_creator(input_df, year):\n",
    "    municipalities = input_df['Origin'].unique().tolist()\n",
    "    output_df = pd.DataFrame(columns=municipalities, index=municipalities)\n",
    "    for i in input_df.itertuples():\n",
    "        output_df.at[i.Origin, i.Destination] = i.Commuters\n",
    "    output_df = output_df.fillna(0)\n",
    "    output_df = output_df.sort_index()\n",
    "    output_df = output_df.sort_index(axis=1)\n",
    "    pathway = 'Databases/Commuting_Matrix_' + str(year) + '.csv'\n",
    "    output_df.to_csv(f'{pathway}')\n",
    "    return output_df"
   ]
  },
  {
   "cell_type": "code",
   "execution_count": 5,
   "id": "999ffd4b",
   "metadata": {},
   "outputs": [],
   "source": [
    "def population_formatter(pathway):\n",
    "    pop_df = pd.read_csv(f'{pathway}', sep=';')\n",
    "    del pop_df['ID']\n",
    "    del pop_df['Sex']\n",
    "    pop_df.columns = ['Region', 'Year', 'Population']\n",
    "    pop_df.dropna(subset=[\"Population\"], inplace=True)\n",
    "    pop_df['Region'] = pop_df['Region'].map(lambda x: x.lstrip('GM'))\n",
    "    pop_df['Region'] = pop_df['Region'].astype(int)\n",
    "    pop_df = pop_df.reset_index()\n",
    "    del pop_df['index']\n",
    "    for row in pop_df.iterrows():\n",
    "        X = row[1]['Year']\n",
    "        X = X.split('JJ')[0]\n",
    "        pop_df.at[row[0], 'Year'] = int(X)\n",
    "    return pop_df"
   ]
  },
  {
   "cell_type": "code",
   "execution_count": 6,
   "id": "56e4ccb7",
   "metadata": {},
   "outputs": [],
   "source": [
    "def format_for_regression(comm_df, pop_df, year):\n",
    "    df = pre_formatter(comm_df.copy())\n",
    "    df2 = pop_df.loc[pop_df['Year'] == int(year)]\n",
    "    for i in df.itertuples():\n",
    "        for j in df2.itertuples():\n",
    "            if i.Origin == j.Region:\n",
    "                df.at[i.Index, 'Origin Pop'] = np.log(j.Population)\n",
    "                if i.Destination == j.Region:\n",
    "                    df.at[i.Index, 'Destination Pop'] = np.log(j.Population)\n",
    "            elif i.Destination == j.Region:\n",
    "                df.at[i.Index, 'Destination Pop'] = np.log(j.Population)\n",
    "    pathway = 'Databases/Regression_DataFrame_' + str(year) + '.csv'\n",
    "    df.to_csv(f'{pathway}')\n",
    "    return df"
   ]
  },
  {
   "cell_type": "code",
   "execution_count": 7,
   "id": "6a68f211",
   "metadata": {},
   "outputs": [],
   "source": [
    "def pre_formatter(input_df):\n",
    "    df = input_df.copy()\n",
    "    for i in df.itertuples():\n",
    "        if i.Distance != 0:\n",
    "            df.at[i.Index, 'Distance'] = np.log(i.Distance)\n",
    "        if i.Commuters != 0:\n",
    "            df.at[i.Index, 'Commuters'] = np.log(i.Commuters)\n",
    "    return df"
   ]
  },
  {
   "cell_type": "code",
   "execution_count": 8,
   "id": "55cd58f9",
   "metadata": {},
   "outputs": [],
   "source": [
    "def get_info(pathway, year, pop_df):\n",
    "    rawdf = formatter(pd.read_csv(f'{pathway}', sep=\";\"))\n",
    "    df = commuting_matrix_creator(rawdf, year)\n",
    "    df_reg = format_for_regression(rawdf, pop_df, year)\n",
    "    return df, df_reg"
   ]
  },
  {
   "cell_type": "code",
   "execution_count": 9,
   "id": "0f302c54",
   "metadata": {},
   "outputs": [],
   "source": [
    "pop_general = population_formatter('Databases/Population 2014-2020.csv')"
   ]
  },
  {
   "cell_type": "code",
   "execution_count": 10,
   "id": "94c34fe4",
   "metadata": {},
   "outputs": [],
   "source": [
    "com_matrix_14, df_14_reg = get_info('Databases/Mobility 2014.csv', 2014, pop_general)\n",
    "com_matrix_15, df_15_reg = get_info('Databases/Mobility 2015.csv', 2015, pop_general)\n",
    "com_matrix_16, df_16_reg = get_info('Databases/Mobility 2016.csv', 2016, pop_general)\n",
    "com_matrix_17, df_17_reg = get_info('Databases/Mobility 2017.csv', 2017, pop_general)\n",
    "com_matrix_18, df_18_reg = get_info('Databases/Mobility 2018.csv', 2018, pop_general)\n",
    "com_matrix_19, df_19_reg = get_info('Databases/Mobility 2019.csv', 2019, pop_general)\n",
    "com_matrix_20, df_20_reg = get_info('Databases/Mobility 2020.csv', 2020, pop_general)"
   ]
  },
  {
   "cell_type": "code",
   "execution_count": 11,
   "id": "ccbe9abf",
   "metadata": {},
   "outputs": [],
   "source": [
    "aggregate_df_reg = pd.concat([df_14_reg, df_15_reg, df_16_reg, df_17_reg, df_18_reg, df_19_reg, df_20_reg])\n",
    "aggregate_df_reg.to_csv('Databases/Test_file.csv', index=False)"
   ]
  },
  {
   "cell_type": "code",
   "execution_count": null,
   "id": "20cde628",
   "metadata": {},
   "outputs": [],
   "source": []
  }
 ],
 "metadata": {
  "kernelspec": {
   "display_name": "Python [conda env:RA] *",
   "language": "python",
   "name": "conda-env-RA-py"
  },
  "language_info": {
   "codemirror_mode": {
    "name": "ipython",
    "version": 3
   },
   "file_extension": ".py",
   "mimetype": "text/x-python",
   "name": "python",
   "nbconvert_exporter": "python",
   "pygments_lexer": "ipython3",
   "version": "3.9.12"
  }
 },
 "nbformat": 4,
 "nbformat_minor": 5
}
