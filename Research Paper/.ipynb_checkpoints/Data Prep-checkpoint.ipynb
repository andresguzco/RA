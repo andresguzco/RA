{
 "cells": [
  {
   "cell_type": "code",
   "execution_count": 20,
   "id": "a1982ef6",
   "metadata": {},
   "outputs": [],
   "source": [
    "import pandas as pd\n",
    "import numpy as np"
   ]
  },
  {
   "cell_type": "markdown",
   "id": "b7aa0b20",
   "metadata": {},
   "source": [
    "## Functions"
   ]
  },
  {
   "cell_type": "code",
   "execution_count": 21,
   "id": "bd94ffa1",
   "metadata": {},
   "outputs": [],
   "source": [
    "def dropper(df):\n",
    "    nan_value = float(\"NaN\")\n",
    "    df.replace(0.0, nan_value, inplace=True)\n",
    "    return df"
   ]
  },
  {
   "cell_type": "code",
   "execution_count": 22,
   "id": "2efc388d",
   "metadata": {},
   "outputs": [],
   "source": [
    "def formatter(input_df):\n",
    "    df = input_df\n",
    "    del df['ID']\n",
    "    df.columns = ['Origin', 'Destination', 'Year', 'Commuters', 'Distance']\n",
    "    df['Origin'] = df['Origin'].map(lambda x: x.lstrip('GM'))\n",
    "    df['Destination'] = df['Destination'].map(lambda x: x.lstrip('GM'))\n",
    "    df = dropper(df)\n",
    "    df.dropna(subset=[\"Commuters\"], inplace=True)\n",
    "    df = df.reset_index()\n",
    "    del df['index']\n",
    "    for row in df.iterrows():\n",
    "        X = row[1]['Year']\n",
    "        X = X.split('MM')[0]\n",
    "        Y = row[1]['Commuters']\n",
    "        Y = Y * 1000\n",
    "        df.at[row[0], 'Year'] = X\n",
    "        df.at[row[0], 'Commuters'] = Y\n",
    "    df['Origin'] = df['Origin'].astype(int)\n",
    "    df['Destination'] = df['Destination'].astype(int)\n",
    "    df['Distance'] = df['Distance'].str.split().str.get(-1)\n",
    "    df['Distance'] = pd.to_numeric(df['Distance'], errors='coerce')\n",
    "    df['Distance'] = df['Distance'].astype(float)\n",
    "    return df"
   ]
  },
  {
   "cell_type": "code",
   "execution_count": 23,
   "id": "18ecdd7a",
   "metadata": {},
   "outputs": [],
   "source": [
    "def commuting_matrix_creator(input_df, year):\n",
    "    municipalities = input_df['Origin'].unique().tolist()\n",
    "    output_df = pd.DataFrame(columns=municipalities, index=municipalities)\n",
    "    for i in input_df.itertuples():\n",
    "        output_df.at[i.Origin, i.Destination] = i.Commuters\n",
    "    output_df = output_df.fillna(0)\n",
    "    output_df = output_df.sort_index()\n",
    "    output_df = output_df.sort_index(axis=1)\n",
    "    return output_df"
   ]
  },
  {
   "cell_type": "code",
   "execution_count": 24,
   "id": "999ffd4b",
   "metadata": {},
   "outputs": [],
   "source": [
    "def population_formatter(pathway):\n",
    "    pop_df = pd.read_csv(f'{pathway}', sep=';')\n",
    "    del pop_df['ID']\n",
    "    del pop_df['Sex']\n",
    "    pop_df.columns = ['Region', 'Year', 'Population']\n",
    "    pop_df.dropna(subset=[\"Population\"], inplace=True)\n",
    "    pop_df['Region'] = pop_df['Region'].map(lambda x: x.lstrip('GM'))\n",
    "    pop_df['Region'] = pop_df['Region'].astype(int)\n",
    "    pop_df = pop_df.reset_index()\n",
    "    del pop_df['index']\n",
    "    for row in pop_df.iterrows():\n",
    "        X = row[1]['Year']\n",
    "        X = X.split('JJ')[0]\n",
    "        pop_df.at[row[0], 'Year'] = int(X)\n",
    "    return pop_df"
   ]
  },
  {
   "cell_type": "code",
   "execution_count": 25,
   "id": "56e4ccb7",
   "metadata": {},
   "outputs": [],
   "source": [
    "def format_for_regression(comm_df, pop_df, year):\n",
    "    df = pre_formatter(comm_df.copy())\n",
    "    df2 = pop_df.loc[pop_df['Year'] == int(year)]\n",
    "    for i in df.itertuples():\n",
    "        for j in df2.itertuples():\n",
    "            if i.Origin == j.Region:\n",
    "                df.at[i.Index, 'Origin Pop'] = np.log(j.Population)\n",
    "                if i.Destination == j.Region:\n",
    "                    df.at[i.Index, 'Destination Pop'] = np.log(j.Population)\n",
    "            elif i.Destination == j.Region:\n",
    "                df.at[i.Index, 'Destination Pop'] = np.log(j.Population)\n",
    "    pathway = 'Databases/Regression_DataFrame_' + str(year) + '.csv'\n",
    "    df.to_csv(f'{pathway}')\n",
    "    return df"
   ]
  },
  {
   "cell_type": "code",
   "execution_count": 26,
   "id": "6a68f211",
   "metadata": {},
   "outputs": [],
   "source": [
    "def pre_formatter(input_df):\n",
    "    df = input_df.copy()\n",
    "    for i in df.itertuples():\n",
    "        if i.Distance != 0:\n",
    "            df.at[i.Index, 'Distance'] = np.log(i.Distance)\n",
    "        if i.Commuters != 0:\n",
    "            df.at[i.Index, 'Commuters'] = np.log(i.Commuters)\n",
    "    return df"
   ]
  },
  {
   "cell_type": "code",
   "execution_count": 27,
   "id": "55cd58f9",
   "metadata": {},
   "outputs": [],
   "source": [
    "def get_info(pathway, year, pop_df):\n",
    "    rawdf = formatter(pd.read_csv(f'{pathway}', sep=\";\"))\n",
    "    df = commuting_matrix_creator(rawdf, year)\n",
    "    df_reg = format_for_regression(rawdf, pop_df, year)\n",
    "    return df, df_reg"
   ]
  },
  {
   "cell_type": "code",
   "execution_count": 28,
   "id": "0f302c54",
   "metadata": {},
   "outputs": [],
   "source": [
    "pop_general = population_formatter('Databases/Population 2014-2020.csv')"
   ]
  },
  {
   "cell_type": "code",
   "execution_count": 29,
   "id": "94c34fe4",
   "metadata": {},
   "outputs": [],
   "source": [
    "com_matrix_14, df_14_reg = get_info('Databases/Mobility 2014.csv', 2014, pop_general)\n",
    "com_matrix_15, df_15_reg = get_info('Databases/Mobility 2015.csv', 2015, pop_general)\n",
    "com_matrix_16, df_16_reg = get_info('Databases/Mobility 2016.csv', 2016, pop_general)\n",
    "com_matrix_17, df_17_reg = get_info('Databases/Mobility 2017.csv', 2017, pop_general)\n",
    "com_matrix_18, df_18_reg = get_info('Databases/Mobility 2018.csv', 2018, pop_general)\n",
    "com_matrix_19, df_19_reg = get_info('Databases/Mobility 2019.csv', 2019, pop_general)\n",
    "com_matrix_20, df_20_reg = get_info('Databases/Mobility 2020.csv', 2020, pop_general)"
   ]
  },
  {
   "cell_type": "code",
   "execution_count": 47,
   "id": "ccbe9abf",
   "metadata": {},
   "outputs": [],
   "source": [
    "aggregate_df_reg = pd.concat([df_14_reg, df_15_reg, df_16_reg, df_17_reg, df_18_reg, df_19_reg, df_20_reg])\n",
    "aggregate_df_reg.to_csv('Databases/Test_file.csv', index=False)"
   ]
  },
  {
   "cell_type": "markdown",
   "id": "007ee22e",
   "metadata": {},
   "source": [
    "## Changes in borders between municipalities\n",
    "\n",
    "Some years, the Dutch government change municipality's borders by merging small ones into bigger ones for a myriad of reasons. We will identify these year to year modifications in the matrices."
   ]
  },
  {
   "cell_type": "code",
   "execution_count": 30,
   "id": "c9369c1a",
   "metadata": {},
   "outputs": [],
   "source": [
    "municipalities_14 = com_matrix_14.columns.values.tolist()\n",
    "municipalities_15 = com_matrix_15.columns.values.tolist()\n",
    "municipalities_16 = com_matrix_16.columns.values.tolist()\n",
    "municipalities_17 = com_matrix_17.columns.values.tolist()\n",
    "municipalities_18 = com_matrix_18.columns.values.tolist()\n",
    "municipalities_19 = com_matrix_19.columns.values.tolist()\n",
    "municipalities_20 = com_matrix_20.columns.values.tolist()"
   ]
  },
  {
   "cell_type": "code",
   "execution_count": 31,
   "id": "40b98152",
   "metadata": {},
   "outputs": [
    {
     "name": "stdout",
     "output_type": "stream",
     "text": [
      "[265, 282, 365, 458, 491, 568, 608, 612, 623, 643, 644, 1671, 1930, 1931] \n",
      " The modification are: 14 \n",
      " The actual difference should be: 10\n"
     ]
    }
   ],
   "source": [
    "dif_14_15 = list(set(municipalities_14).symmetric_difference(set(municipalities_15)))\n",
    "print(dif_14_15,'\\n', 'The modification are:',len(dif_14_15), '\\n',\n",
    "      'The actual difference should be:',len(com_matrix_14) - len(com_matrix_15))"
   ]
  },
  {
   "cell_type": "code",
   "execution_count": 32,
   "id": "4649b30d",
   "metadata": {},
   "outputs": [
    {
     "name": "stdout",
     "output_type": "stream",
     "text": [
      "[241, 381, 424, 425, 478, 1921, 1940, 1942, 1945] \n",
      " The modification are: 9 \n",
      " The actual difference should be: 3\n"
     ]
    }
   ],
   "source": [
    "dif_15_16 = list(set(municipalities_15).symmetric_difference(set(municipalities_16)))\n",
    "print(dif_15_16,'\\n', 'The modification are:', len(dif_15_16), '\\n',\n",
    "      'The actual difference should be:', len(com_matrix_15) - len(com_matrix_16))"
   ]
  },
  {
   "cell_type": "code",
   "execution_count": 33,
   "id": "a0312158",
   "metadata": {},
   "outputs": [
    {
     "name": "stdout",
     "output_type": "stream",
     "text": [
      "[844, 846, 860, 1948] \n",
      " The modification are: 4 \n",
      " The actual difference should be: 2\n"
     ]
    }
   ],
   "source": [
    "dif_16_17 = list(set(municipalities_16).symmetric_difference(set(municipalities_17)))\n",
    "print(dif_16_17,'\\n', 'The modification are:', len(dif_16_17), '\\n',\n",
    "      'The actual difference should be:', len(com_matrix_16) - len(com_matrix_17))"
   ]
  },
  {
   "cell_type": "code",
   "execution_count": 34,
   "id": "a3a78070",
   "metadata": {},
   "outputs": [
    {
     "name": "stdout",
     "output_type": "stream",
     "text": [
      "[7, 18, 40, 48, 63, 70, 81, 140, 196, 1908, 1949, 1950, 1952, 1987] \n",
      " The modification are: 14 \n",
      " The actual difference should be: 8\n"
     ]
    }
   ],
   "source": [
    "dif_17_18 = list(set(municipalities_17).symmetric_difference(set(municipalities_18)))\n",
    "print(dif_17_18,'\\n', 'The modification are:', len(dif_17_18), '\\n',\n",
    "      'The actual difference should be:', len(com_matrix_17) - len(com_matrix_18))"
   ]
  },
  {
   "cell_type": "code",
   "execution_count": 35,
   "id": "f1880b2c",
   "metadata": {},
   "outputs": [
    {
     "name": "stdout",
     "output_type": "stream",
     "text": [
      "[5, 9, 15, 17, 22, 25, 53, 56, 58, 79, 236, 304, 393, 545, 576, 584, 585, 588, 611, 617, 620, 1651, 1663, 689, 1722, 707, 733, 738, 870, 874, 881, 1927, 1954, 1959, 1960, 1961, 1963, 1966, 1969, 1970, 951, 1978, 962] \n",
      " The modification are: 43 \n",
      " The actual difference should be: 25\n"
     ]
    }
   ],
   "source": [
    "dif_18_19 = list(set(municipalities_18).symmetric_difference(set(municipalities_19)))\n",
    "print(dif_18_19,'\\n', 'The modification are:', len(dif_18_19), '\\n',\n",
    "      'The actual difference should be:', len(com_matrix_18) - len(com_matrix_19))"
   ]
  },
  {
   "cell_type": "code",
   "execution_count": 36,
   "id": "20f38783",
   "metadata": {},
   "outputs": [
    {
     "name": "stdout",
     "output_type": "stream",
     "text": [
      "[] \n",
      " The modification are: 0 \n",
      " The actual difference should be: 0\n"
     ]
    }
   ],
   "source": [
    "dif_19_20 = list(set(municipalities_19).symmetric_difference(set(municipalities_20)))\n",
    "print(dif_19_20,'\\n', 'The modification are:', len(dif_19_20), '\\n',\n",
    "      'The actual difference should be:', len(com_matrix_19) - len(com_matrix_20))"
   ]
  },
  {
   "cell_type": "markdown",
   "id": "acbec558",
   "metadata": {},
   "source": [
    "## Backcasting border changes\n",
    "\n",
    "Every year, some municipalities disappear. Sometimes they merge with other existent municipalities or sometimes a new bigger municipality is created by the fusion of others. In this section we will write a small funciton that will take a given year commuting matrix, the disappearing municipalities and the new one. Then we will create another function that does the same for the other type of DataFrame, the one that also has the distance between municipalities."
   ]
  },
  {
   "cell_type": "code",
   "execution_count": 37,
   "id": "385e308a",
   "metadata": {},
   "outputs": [],
   "source": [
    "def commuting_matrix_updater(commuting_matrix, disappearing_municipalities, new_municipalities):\n",
    "    df = commuting_matrix.copy()\n",
    "    municipalities = df.columns.values.tolist()\n",
    "    for i in range(len(new_municipalities)):\n",
    "        if new_municipalities[i] in municipalities:\n",
    "            for j in range(len(disappearing_municipalities[i])):\n",
    "                df[new_municipalities[i]] += df[disappearing_municipalities[i][j]]\n",
    "                del df[disappearing_municipalities[i][j]]\n",
    "                df = df.T\n",
    "                df[new_municipalities[i]] += df[disappearing_municipalities[i][j]]\n",
    "                del df[disappearing_municipalities[i][j]]\n",
    "        else:\n",
    "            for j in range(len(disappearing_municipalities[i])):\n",
    "                df[new_municipalities[i]] = df[disappearing_municipalities[i][j]]\n",
    "                del df[disappearing_municipalities[i][j]]\n",
    "                df = df.T\n",
    "                df[new_municipalities[i]] = df[disappearing_municipalities[i][j]]\n",
    "                del df[disappearing_municipalities[i][j]]\n",
    "    return df"
   ]
  },
  {
   "cell_type": "code",
   "execution_count": 39,
   "id": "60fac00b",
   "metadata": {},
   "outputs": [],
   "source": [
    "# def regression_dataframe_updater(regression_dataframe, disappearing_municipalities, new_municipalities):\n",
    "#     df = regression_dataframe.copy()\n",
    "#     for i in df.itertuples():\n",
    "#         if i.Index == \n",
    "#     return"
   ]
  },
  {
   "cell_type": "markdown",
   "id": "e51f4c23",
   "metadata": {},
   "source": [
    "Here, we already have a function that can modify the commuting matrix in the way we mentioned. To avoid problems with the division of municipalities and merging of many into one, we can write a separate loop."
   ]
  },
  {
   "cell_type": "markdown",
   "id": "c6314098",
   "metadata": {},
   "source": [
    "### 2014 - 2020"
   ]
  },
  {
   "cell_type": "code",
   "execution_count": 40,
   "id": "506db6e3",
   "metadata": {},
   "outputs": [
    {
     "name": "stderr",
     "output_type": "stream",
     "text": [
      "/var/folders/7f/x1mp2wjd10vcy_krqb5_kwjc0000gn/T/ipykernel_14966/2713809505.py:14: PerformanceWarning: DataFrame is highly fragmented.  This is usually the result of calling `frame.insert` many times, which has poor performance.  Consider joining all columns at once using pd.concat(axis=1) instead. To get a de-fragmented frame, use `newframe = frame.copy()`\n",
      "  df[new_municipalities[i]] = df[disappearing_municipalities[i][j]]\n",
      "/var/folders/7f/x1mp2wjd10vcy_krqb5_kwjc0000gn/T/ipykernel_14966/2713809505.py:14: PerformanceWarning: DataFrame is highly fragmented.  This is usually the result of calling `frame.insert` many times, which has poor performance.  Consider joining all columns at once using pd.concat(axis=1) instead. To get a de-fragmented frame, use `newframe = frame.copy()`\n",
      "  df[new_municipalities[i]] = df[disappearing_municipalities[i][j]]\n",
      "/var/folders/7f/x1mp2wjd10vcy_krqb5_kwjc0000gn/T/ipykernel_14966/2713809505.py:14: PerformanceWarning: DataFrame is highly fragmented.  This is usually the result of calling `frame.insert` many times, which has poor performance.  Consider joining all columns at once using pd.concat(axis=1) instead. To get a de-fragmented frame, use `newframe = frame.copy()`\n",
      "  df[new_municipalities[i]] = df[disappearing_municipalities[i][j]]\n",
      "/var/folders/7f/x1mp2wjd10vcy_krqb5_kwjc0000gn/T/ipykernel_14966/2713809505.py:14: PerformanceWarning: DataFrame is highly fragmented.  This is usually the result of calling `frame.insert` many times, which has poor performance.  Consider joining all columns at once using pd.concat(axis=1) instead. To get a de-fragmented frame, use `newframe = frame.copy()`\n",
      "  df[new_municipalities[i]] = df[disappearing_municipalities[i][j]]\n",
      "/var/folders/7f/x1mp2wjd10vcy_krqb5_kwjc0000gn/T/ipykernel_14966/2713809505.py:14: PerformanceWarning: DataFrame is highly fragmented.  This is usually the result of calling `frame.insert` many times, which has poor performance.  Consider joining all columns at once using pd.concat(axis=1) instead. To get a de-fragmented frame, use `newframe = frame.copy()`\n",
      "  df[new_municipalities[i]] = df[disappearing_municipalities[i][j]]\n",
      "/var/folders/7f/x1mp2wjd10vcy_krqb5_kwjc0000gn/T/ipykernel_14966/2713809505.py:14: PerformanceWarning: DataFrame is highly fragmented.  This is usually the result of calling `frame.insert` many times, which has poor performance.  Consider joining all columns at once using pd.concat(axis=1) instead. To get a de-fragmented frame, use `newframe = frame.copy()`\n",
      "  df[new_municipalities[i]] = df[disappearing_municipalities[i][j]]\n",
      "/var/folders/7f/x1mp2wjd10vcy_krqb5_kwjc0000gn/T/ipykernel_14966/2713809505.py:14: PerformanceWarning: DataFrame is highly fragmented.  This is usually the result of calling `frame.insert` many times, which has poor performance.  Consider joining all columns at once using pd.concat(axis=1) instead. To get a de-fragmented frame, use `newframe = frame.copy()`\n",
      "  df[new_municipalities[i]] = df[disappearing_municipalities[i][j]]\n",
      "/var/folders/7f/x1mp2wjd10vcy_krqb5_kwjc0000gn/T/ipykernel_14966/2713809505.py:14: PerformanceWarning: DataFrame is highly fragmented.  This is usually the result of calling `frame.insert` many times, which has poor performance.  Consider joining all columns at once using pd.concat(axis=1) instead. To get a de-fragmented frame, use `newframe = frame.copy()`\n",
      "  df[new_municipalities[i]] = df[disappearing_municipalities[i][j]]\n",
      "/var/folders/7f/x1mp2wjd10vcy_krqb5_kwjc0000gn/T/ipykernel_14966/2713809505.py:14: PerformanceWarning: DataFrame is highly fragmented.  This is usually the result of calling `frame.insert` many times, which has poor performance.  Consider joining all columns at once using pd.concat(axis=1) instead. To get a de-fragmented frame, use `newframe = frame.copy()`\n",
      "  df[new_municipalities[i]] = df[disappearing_municipalities[i][j]]\n",
      "/var/folders/7f/x1mp2wjd10vcy_krqb5_kwjc0000gn/T/ipykernel_14966/2713809505.py:14: PerformanceWarning: DataFrame is highly fragmented.  This is usually the result of calling `frame.insert` many times, which has poor performance.  Consider joining all columns at once using pd.concat(axis=1) instead. To get a de-fragmented frame, use `newframe = frame.copy()`\n",
      "  df[new_municipalities[i]] = df[disappearing_municipalities[i][j]]\n",
      "/var/folders/7f/x1mp2wjd10vcy_krqb5_kwjc0000gn/T/ipykernel_14966/2713809505.py:14: PerformanceWarning: DataFrame is highly fragmented.  This is usually the result of calling `frame.insert` many times, which has poor performance.  Consider joining all columns at once using pd.concat(axis=1) instead. To get a de-fragmented frame, use `newframe = frame.copy()`\n",
      "  df[new_municipalities[i]] = df[disappearing_municipalities[i][j]]\n"
     ]
    },
    {
     "name": "stdout",
     "output_type": "stream",
     "text": [
      "355\n"
     ]
    }
   ],
   "source": [
    "disappearing_municipalities = [[491, 608, 623, 643, 644], [265, 282], [365, 458], [568, 612]]\n",
    "target_municipality = [1931, 241, 361, 1930]\n",
    "com_matrix_14 = commuting_matrix_updater(com_matrix_14, disappearing_municipalities, target_municipality)\n",
    "\n",
    "del com_matrix_14[1671]\n",
    "com_matrix_14 = com_matrix_14.T\n",
    "del com_matrix_14[1671]\n",
    "\n",
    "disappearing_municipalities = [[381, 424, 425], [478], [241], [1921]]\n",
    "target_municipality = [1942, 385, 1945, 1940]\n",
    "com_matrix_14 = commuting_matrix_updater(com_matrix_14, disappearing_municipalities, target_municipality)\n",
    "\n",
    "disappearing_municipalities = [[844, 846, 860]]\n",
    "target_municipality = [1948]\n",
    "com_matrix_14 = commuting_matrix_updater(com_matrix_14, disappearing_municipalities, target_municipality)\n",
    "\n",
    "disappearing_municipalities = [[7, 48], [1987, 18, 40], [81, 140], [196], [63, 70, 1908]]\n",
    "target_municipality = [1950, 1952, 80, 299, 1949]\n",
    "com_matrix_14 = commuting_matrix_updater(com_matrix_14, disappearing_municipalities, target_municipality)\n",
    "\n",
    "disappearing_municipalities = [[53, 5, 1651, 1663], [545, 707, 620], [15, 22, 25, 56], [58, 79, 1722], [689, 1927],\n",
    "                               [236, 304, 733], [17, 9], [393], [576], [584, 585, 588, 611, 617], [738, 870, 874], \n",
    "                               [962, 881, 951]]\n",
    "target_municipality = [1966, 1961, 1969, 1970, 1978, 1960, 14, 394, 575, 1963, 1959, 1954]\n",
    "com_matrix_14 = commuting_matrix_updater(com_matrix_14, disappearing_municipalities, target_municipality)\n",
    "\n",
    "pathway = 'Databases/Commuting_Matrix_2014.csv'\n",
    "com_matrix_14.to_csv(f'{pathway}')\n",
    "\n",
    "print(len(com_matrix_14))"
   ]
  },
  {
   "cell_type": "markdown",
   "id": "40d1e260",
   "metadata": {},
   "source": [
    "### 2015 - 2020"
   ]
  },
  {
   "cell_type": "code",
   "execution_count": 41,
   "id": "d6486ccf",
   "metadata": {},
   "outputs": [
    {
     "name": "stderr",
     "output_type": "stream",
     "text": [
      "/var/folders/7f/x1mp2wjd10vcy_krqb5_kwjc0000gn/T/ipykernel_14966/2713809505.py:14: PerformanceWarning: DataFrame is highly fragmented.  This is usually the result of calling `frame.insert` many times, which has poor performance.  Consider joining all columns at once using pd.concat(axis=1) instead. To get a de-fragmented frame, use `newframe = frame.copy()`\n",
      "  df[new_municipalities[i]] = df[disappearing_municipalities[i][j]]\n",
      "/var/folders/7f/x1mp2wjd10vcy_krqb5_kwjc0000gn/T/ipykernel_14966/2713809505.py:14: PerformanceWarning: DataFrame is highly fragmented.  This is usually the result of calling `frame.insert` many times, which has poor performance.  Consider joining all columns at once using pd.concat(axis=1) instead. To get a de-fragmented frame, use `newframe = frame.copy()`\n",
      "  df[new_municipalities[i]] = df[disappearing_municipalities[i][j]]\n",
      "/var/folders/7f/x1mp2wjd10vcy_krqb5_kwjc0000gn/T/ipykernel_14966/2713809505.py:14: PerformanceWarning: DataFrame is highly fragmented.  This is usually the result of calling `frame.insert` many times, which has poor performance.  Consider joining all columns at once using pd.concat(axis=1) instead. To get a de-fragmented frame, use `newframe = frame.copy()`\n",
      "  df[new_municipalities[i]] = df[disappearing_municipalities[i][j]]\n",
      "/var/folders/7f/x1mp2wjd10vcy_krqb5_kwjc0000gn/T/ipykernel_14966/2713809505.py:14: PerformanceWarning: DataFrame is highly fragmented.  This is usually the result of calling `frame.insert` many times, which has poor performance.  Consider joining all columns at once using pd.concat(axis=1) instead. To get a de-fragmented frame, use `newframe = frame.copy()`\n",
      "  df[new_municipalities[i]] = df[disappearing_municipalities[i][j]]\n",
      "/var/folders/7f/x1mp2wjd10vcy_krqb5_kwjc0000gn/T/ipykernel_14966/2713809505.py:14: PerformanceWarning: DataFrame is highly fragmented.  This is usually the result of calling `frame.insert` many times, which has poor performance.  Consider joining all columns at once using pd.concat(axis=1) instead. To get a de-fragmented frame, use `newframe = frame.copy()`\n",
      "  df[new_municipalities[i]] = df[disappearing_municipalities[i][j]]\n",
      "/var/folders/7f/x1mp2wjd10vcy_krqb5_kwjc0000gn/T/ipykernel_14966/2713809505.py:14: PerformanceWarning: DataFrame is highly fragmented.  This is usually the result of calling `frame.insert` many times, which has poor performance.  Consider joining all columns at once using pd.concat(axis=1) instead. To get a de-fragmented frame, use `newframe = frame.copy()`\n",
      "  df[new_municipalities[i]] = df[disappearing_municipalities[i][j]]\n"
     ]
    },
    {
     "name": "stdout",
     "output_type": "stream",
     "text": [
      "355\n"
     ]
    },
    {
     "name": "stderr",
     "output_type": "stream",
     "text": [
      "/var/folders/7f/x1mp2wjd10vcy_krqb5_kwjc0000gn/T/ipykernel_14966/2713809505.py:14: PerformanceWarning: DataFrame is highly fragmented.  This is usually the result of calling `frame.insert` many times, which has poor performance.  Consider joining all columns at once using pd.concat(axis=1) instead. To get a de-fragmented frame, use `newframe = frame.copy()`\n",
      "  df[new_municipalities[i]] = df[disappearing_municipalities[i][j]]\n",
      "/var/folders/7f/x1mp2wjd10vcy_krqb5_kwjc0000gn/T/ipykernel_14966/2713809505.py:14: PerformanceWarning: DataFrame is highly fragmented.  This is usually the result of calling `frame.insert` many times, which has poor performance.  Consider joining all columns at once using pd.concat(axis=1) instead. To get a de-fragmented frame, use `newframe = frame.copy()`\n",
      "  df[new_municipalities[i]] = df[disappearing_municipalities[i][j]]\n",
      "/var/folders/7f/x1mp2wjd10vcy_krqb5_kwjc0000gn/T/ipykernel_14966/2713809505.py:14: PerformanceWarning: DataFrame is highly fragmented.  This is usually the result of calling `frame.insert` many times, which has poor performance.  Consider joining all columns at once using pd.concat(axis=1) instead. To get a de-fragmented frame, use `newframe = frame.copy()`\n",
      "  df[new_municipalities[i]] = df[disappearing_municipalities[i][j]]\n",
      "/var/folders/7f/x1mp2wjd10vcy_krqb5_kwjc0000gn/T/ipykernel_14966/2713809505.py:14: PerformanceWarning: DataFrame is highly fragmented.  This is usually the result of calling `frame.insert` many times, which has poor performance.  Consider joining all columns at once using pd.concat(axis=1) instead. To get a de-fragmented frame, use `newframe = frame.copy()`\n",
      "  df[new_municipalities[i]] = df[disappearing_municipalities[i][j]]\n"
     ]
    }
   ],
   "source": [
    "disappearing_municipalities = [[381, 424, 425], [478], [241], [1921]]\n",
    "target_municipality = [1942, 385, 1945, 1940]\n",
    "com_matrix_15 = commuting_matrix_updater(com_matrix_15, disappearing_municipalities, target_municipality)\n",
    "\n",
    "disappearing_municipalities = [[844, 846, 860]]\n",
    "target_municipality = [1948]\n",
    "com_matrix_15 = commuting_matrix_updater(com_matrix_15, disappearing_municipalities, target_municipality)\n",
    "\n",
    "disappearing_municipalities = [[7, 48], [1987, 18, 40], [81, 140], [196], [63, 70, 1908]]\n",
    "target_municipality = [1950, 1952, 80, 299, 1949]\n",
    "com_matrix_15 = commuting_matrix_updater(com_matrix_15, disappearing_municipalities, target_municipality)\n",
    "\n",
    "disappearing_municipalities = [[53, 5, 1651, 1663], [545, 707, 620], [15, 22, 25, 56], [58, 79, 1722], [689, 1927],\n",
    "                               [236, 304, 733], [17, 9], [393], [576], [584, 585, 588, 611, 617], [738, 870, 874], \n",
    "                               [962, 881, 951]]\n",
    "target_municipality = [1966, 1961, 1969, 1970, 1978, 1960, 14, 394, 575, 1963, 1959, 1954]\n",
    "com_matrix_15 = commuting_matrix_updater(com_matrix_15, disappearing_municipalities, target_municipality)\n",
    "\n",
    "pathway = 'Databases/Commuting_Matrix_2015.csv'\n",
    "com_matrix_15.to_csv(f'{pathway}')\n",
    "\n",
    "print(len(com_matrix_15))"
   ]
  },
  {
   "cell_type": "markdown",
   "id": "1279714f",
   "metadata": {},
   "source": [
    "### 2016 - 2020"
   ]
  },
  {
   "cell_type": "code",
   "execution_count": 42,
   "id": "4bae33e7",
   "metadata": {},
   "outputs": [
    {
     "name": "stderr",
     "output_type": "stream",
     "text": [
      "/var/folders/7f/x1mp2wjd10vcy_krqb5_kwjc0000gn/T/ipykernel_14966/2713809505.py:14: PerformanceWarning: DataFrame is highly fragmented.  This is usually the result of calling `frame.insert` many times, which has poor performance.  Consider joining all columns at once using pd.concat(axis=1) instead. To get a de-fragmented frame, use `newframe = frame.copy()`\n",
      "  df[new_municipalities[i]] = df[disappearing_municipalities[i][j]]\n",
      "/var/folders/7f/x1mp2wjd10vcy_krqb5_kwjc0000gn/T/ipykernel_14966/2713809505.py:14: PerformanceWarning: DataFrame is highly fragmented.  This is usually the result of calling `frame.insert` many times, which has poor performance.  Consider joining all columns at once using pd.concat(axis=1) instead. To get a de-fragmented frame, use `newframe = frame.copy()`\n",
      "  df[new_municipalities[i]] = df[disappearing_municipalities[i][j]]\n",
      "/var/folders/7f/x1mp2wjd10vcy_krqb5_kwjc0000gn/T/ipykernel_14966/2713809505.py:14: PerformanceWarning: DataFrame is highly fragmented.  This is usually the result of calling `frame.insert` many times, which has poor performance.  Consider joining all columns at once using pd.concat(axis=1) instead. To get a de-fragmented frame, use `newframe = frame.copy()`\n",
      "  df[new_municipalities[i]] = df[disappearing_municipalities[i][j]]\n",
      "/var/folders/7f/x1mp2wjd10vcy_krqb5_kwjc0000gn/T/ipykernel_14966/2713809505.py:14: PerformanceWarning: DataFrame is highly fragmented.  This is usually the result of calling `frame.insert` many times, which has poor performance.  Consider joining all columns at once using pd.concat(axis=1) instead. To get a de-fragmented frame, use `newframe = frame.copy()`\n",
      "  df[new_municipalities[i]] = df[disappearing_municipalities[i][j]]\n",
      "/var/folders/7f/x1mp2wjd10vcy_krqb5_kwjc0000gn/T/ipykernel_14966/2713809505.py:14: PerformanceWarning: DataFrame is highly fragmented.  This is usually the result of calling `frame.insert` many times, which has poor performance.  Consider joining all columns at once using pd.concat(axis=1) instead. To get a de-fragmented frame, use `newframe = frame.copy()`\n",
      "  df[new_municipalities[i]] = df[disappearing_municipalities[i][j]]\n",
      "/var/folders/7f/x1mp2wjd10vcy_krqb5_kwjc0000gn/T/ipykernel_14966/2713809505.py:14: PerformanceWarning: DataFrame is highly fragmented.  This is usually the result of calling `frame.insert` many times, which has poor performance.  Consider joining all columns at once using pd.concat(axis=1) instead. To get a de-fragmented frame, use `newframe = frame.copy()`\n",
      "  df[new_municipalities[i]] = df[disappearing_municipalities[i][j]]\n"
     ]
    },
    {
     "name": "stdout",
     "output_type": "stream",
     "text": [
      "355\n"
     ]
    },
    {
     "name": "stderr",
     "output_type": "stream",
     "text": [
      "/var/folders/7f/x1mp2wjd10vcy_krqb5_kwjc0000gn/T/ipykernel_14966/2713809505.py:14: PerformanceWarning: DataFrame is highly fragmented.  This is usually the result of calling `frame.insert` many times, which has poor performance.  Consider joining all columns at once using pd.concat(axis=1) instead. To get a de-fragmented frame, use `newframe = frame.copy()`\n",
      "  df[new_municipalities[i]] = df[disappearing_municipalities[i][j]]\n",
      "/var/folders/7f/x1mp2wjd10vcy_krqb5_kwjc0000gn/T/ipykernel_14966/2713809505.py:14: PerformanceWarning: DataFrame is highly fragmented.  This is usually the result of calling `frame.insert` many times, which has poor performance.  Consider joining all columns at once using pd.concat(axis=1) instead. To get a de-fragmented frame, use `newframe = frame.copy()`\n",
      "  df[new_municipalities[i]] = df[disappearing_municipalities[i][j]]\n"
     ]
    }
   ],
   "source": [
    "disappearing_municipalities = [[844, 846, 860]]\n",
    "target_municipality = [1948]\n",
    "com_matrix_16 = commuting_matrix_updater(com_matrix_16, disappearing_municipalities, target_municipality)\n",
    "\n",
    "disappearing_municipalities = [[7, 48], [1987, 18, 40], [81, 140], [196], [63, 70, 1908]]\n",
    "target_municipality = [1950, 1952, 80, 299, 1949]\n",
    "com_matrix_16 = commuting_matrix_updater(com_matrix_16, disappearing_municipalities, target_municipality)\n",
    "\n",
    "disappearing_municipalities = [[53, 5, 1651, 1663], [545, 707, 620], [15, 22, 25, 56], [58, 79, 1722], [689, 1927],\n",
    "                               [236, 304, 733], [17, 9], [393], [576], [584, 585, 588, 611, 617], [738, 870, 874], \n",
    "                               [962, 881, 951]]\n",
    "target_municipality = [1966, 1961, 1969, 1970, 1978, 1960, 14, 394, 575, 1963, 1959, 1954]\n",
    "com_matrix_16 = commuting_matrix_updater(com_matrix_16, disappearing_municipalities, target_municipality)\n",
    "\n",
    "pathway = 'Databases/Commuting_Matrix_2016.csv'\n",
    "com_matrix_16.to_csv(f'{pathway}')\n",
    "\n",
    "print(len(com_matrix_16))"
   ]
  },
  {
   "cell_type": "markdown",
   "id": "70d13caa",
   "metadata": {},
   "source": [
    "### 2017 - 2020"
   ]
  },
  {
   "cell_type": "code",
   "execution_count": 43,
   "id": "32500ab5",
   "metadata": {},
   "outputs": [
    {
     "name": "stderr",
     "output_type": "stream",
     "text": [
      "/var/folders/7f/x1mp2wjd10vcy_krqb5_kwjc0000gn/T/ipykernel_14966/2713809505.py:14: PerformanceWarning: DataFrame is highly fragmented.  This is usually the result of calling `frame.insert` many times, which has poor performance.  Consider joining all columns at once using pd.concat(axis=1) instead. To get a de-fragmented frame, use `newframe = frame.copy()`\n",
      "  df[new_municipalities[i]] = df[disappearing_municipalities[i][j]]\n",
      "/var/folders/7f/x1mp2wjd10vcy_krqb5_kwjc0000gn/T/ipykernel_14966/2713809505.py:14: PerformanceWarning: DataFrame is highly fragmented.  This is usually the result of calling `frame.insert` many times, which has poor performance.  Consider joining all columns at once using pd.concat(axis=1) instead. To get a de-fragmented frame, use `newframe = frame.copy()`\n",
      "  df[new_municipalities[i]] = df[disappearing_municipalities[i][j]]\n",
      "/var/folders/7f/x1mp2wjd10vcy_krqb5_kwjc0000gn/T/ipykernel_14966/2713809505.py:14: PerformanceWarning: DataFrame is highly fragmented.  This is usually the result of calling `frame.insert` many times, which has poor performance.  Consider joining all columns at once using pd.concat(axis=1) instead. To get a de-fragmented frame, use `newframe = frame.copy()`\n",
      "  df[new_municipalities[i]] = df[disappearing_municipalities[i][j]]\n",
      "/var/folders/7f/x1mp2wjd10vcy_krqb5_kwjc0000gn/T/ipykernel_14966/2713809505.py:14: PerformanceWarning: DataFrame is highly fragmented.  This is usually the result of calling `frame.insert` many times, which has poor performance.  Consider joining all columns at once using pd.concat(axis=1) instead. To get a de-fragmented frame, use `newframe = frame.copy()`\n",
      "  df[new_municipalities[i]] = df[disappearing_municipalities[i][j]]\n",
      "/var/folders/7f/x1mp2wjd10vcy_krqb5_kwjc0000gn/T/ipykernel_14966/2713809505.py:14: PerformanceWarning: DataFrame is highly fragmented.  This is usually the result of calling `frame.insert` many times, which has poor performance.  Consider joining all columns at once using pd.concat(axis=1) instead. To get a de-fragmented frame, use `newframe = frame.copy()`\n",
      "  df[new_municipalities[i]] = df[disappearing_municipalities[i][j]]\n",
      "/var/folders/7f/x1mp2wjd10vcy_krqb5_kwjc0000gn/T/ipykernel_14966/2713809505.py:14: PerformanceWarning: DataFrame is highly fragmented.  This is usually the result of calling `frame.insert` many times, which has poor performance.  Consider joining all columns at once using pd.concat(axis=1) instead. To get a de-fragmented frame, use `newframe = frame.copy()`\n",
      "  df[new_municipalities[i]] = df[disappearing_municipalities[i][j]]\n",
      "/var/folders/7f/x1mp2wjd10vcy_krqb5_kwjc0000gn/T/ipykernel_14966/2713809505.py:14: PerformanceWarning: DataFrame is highly fragmented.  This is usually the result of calling `frame.insert` many times, which has poor performance.  Consider joining all columns at once using pd.concat(axis=1) instead. To get a de-fragmented frame, use `newframe = frame.copy()`\n",
      "  df[new_municipalities[i]] = df[disappearing_municipalities[i][j]]\n",
      "/var/folders/7f/x1mp2wjd10vcy_krqb5_kwjc0000gn/T/ipykernel_14966/2713809505.py:14: PerformanceWarning: DataFrame is highly fragmented.  This is usually the result of calling `frame.insert` many times, which has poor performance.  Consider joining all columns at once using pd.concat(axis=1) instead. To get a de-fragmented frame, use `newframe = frame.copy()`\n",
      "  df[new_municipalities[i]] = df[disappearing_municipalities[i][j]]\n"
     ]
    },
    {
     "name": "stdout",
     "output_type": "stream",
     "text": [
      "355\n"
     ]
    }
   ],
   "source": [
    "disappearing_municipalities = [[7, 48], [1987, 18, 40], [81, 140], [196], [63, 70, 1908]]\n",
    "target_municipality = [1950, 1952, 80, 299, 1949]\n",
    "com_matrix_17 = commuting_matrix_updater(com_matrix_17, disappearing_municipalities, target_municipality)\n",
    "\n",
    "disappearing_municipalities = [[53, 5, 1651, 1663], [545, 707, 620], [15, 22, 25, 56], [58, 79, 1722], [689, 1927],\n",
    "                               [236, 304, 733], [17, 9], [393], [576], [584, 585, 588, 611, 617], [738, 870, 874], \n",
    "                               [962, 881, 951]]\n",
    "target_municipality = [1966, 1961, 1969, 1970, 1978, 1960, 14, 394, 575, 1963, 1959, 1954]\n",
    "com_matrix_17 = commuting_matrix_updater(com_matrix_17, disappearing_municipalities, target_municipality)\n",
    "\n",
    "pathway = 'Databases/Commuting_Matrix_2017.csv'\n",
    "com_matrix_17.to_csv(f'{pathway}')\n",
    "\n",
    "print(len(com_matrix_17))"
   ]
  },
  {
   "cell_type": "markdown",
   "id": "2161e8c5",
   "metadata": {},
   "source": [
    "### 2018 - 2020"
   ]
  },
  {
   "cell_type": "code",
   "execution_count": 44,
   "id": "17f602e1",
   "metadata": {
    "scrolled": true
   },
   "outputs": [
    {
     "name": "stderr",
     "output_type": "stream",
     "text": [
      "/var/folders/7f/x1mp2wjd10vcy_krqb5_kwjc0000gn/T/ipykernel_14966/2713809505.py:14: PerformanceWarning: DataFrame is highly fragmented.  This is usually the result of calling `frame.insert` many times, which has poor performance.  Consider joining all columns at once using pd.concat(axis=1) instead. To get a de-fragmented frame, use `newframe = frame.copy()`\n",
      "  df[new_municipalities[i]] = df[disappearing_municipalities[i][j]]\n",
      "/var/folders/7f/x1mp2wjd10vcy_krqb5_kwjc0000gn/T/ipykernel_14966/2713809505.py:14: PerformanceWarning: DataFrame is highly fragmented.  This is usually the result of calling `frame.insert` many times, which has poor performance.  Consider joining all columns at once using pd.concat(axis=1) instead. To get a de-fragmented frame, use `newframe = frame.copy()`\n",
      "  df[new_municipalities[i]] = df[disappearing_municipalities[i][j]]\n",
      "/var/folders/7f/x1mp2wjd10vcy_krqb5_kwjc0000gn/T/ipykernel_14966/2713809505.py:14: PerformanceWarning: DataFrame is highly fragmented.  This is usually the result of calling `frame.insert` many times, which has poor performance.  Consider joining all columns at once using pd.concat(axis=1) instead. To get a de-fragmented frame, use `newframe = frame.copy()`\n",
      "  df[new_municipalities[i]] = df[disappearing_municipalities[i][j]]\n",
      "/var/folders/7f/x1mp2wjd10vcy_krqb5_kwjc0000gn/T/ipykernel_14966/2713809505.py:14: PerformanceWarning: DataFrame is highly fragmented.  This is usually the result of calling `frame.insert` many times, which has poor performance.  Consider joining all columns at once using pd.concat(axis=1) instead. To get a de-fragmented frame, use `newframe = frame.copy()`\n",
      "  df[new_municipalities[i]] = df[disappearing_municipalities[i][j]]\n",
      "/var/folders/7f/x1mp2wjd10vcy_krqb5_kwjc0000gn/T/ipykernel_14966/2713809505.py:14: PerformanceWarning: DataFrame is highly fragmented.  This is usually the result of calling `frame.insert` many times, which has poor performance.  Consider joining all columns at once using pd.concat(axis=1) instead. To get a de-fragmented frame, use `newframe = frame.copy()`\n",
      "  df[new_municipalities[i]] = df[disappearing_municipalities[i][j]]\n",
      "/var/folders/7f/x1mp2wjd10vcy_krqb5_kwjc0000gn/T/ipykernel_14966/2713809505.py:14: PerformanceWarning: DataFrame is highly fragmented.  This is usually the result of calling `frame.insert` many times, which has poor performance.  Consider joining all columns at once using pd.concat(axis=1) instead. To get a de-fragmented frame, use `newframe = frame.copy()`\n",
      "  df[new_municipalities[i]] = df[disappearing_municipalities[i][j]]\n",
      "/var/folders/7f/x1mp2wjd10vcy_krqb5_kwjc0000gn/T/ipykernel_14966/2713809505.py:14: PerformanceWarning: DataFrame is highly fragmented.  This is usually the result of calling `frame.insert` many times, which has poor performance.  Consider joining all columns at once using pd.concat(axis=1) instead. To get a de-fragmented frame, use `newframe = frame.copy()`\n",
      "  df[new_municipalities[i]] = df[disappearing_municipalities[i][j]]\n"
     ]
    },
    {
     "name": "stdout",
     "output_type": "stream",
     "text": [
      "355\n"
     ]
    }
   ],
   "source": [
    "disappearing_municipalities = [[53, 5, 1651, 1663], [545, 707, 620], [15, 22, 25, 56], [58, 79, 1722], [689, 1927],\n",
    "                               [236, 304, 733], [17, 9], [393], [576], [584, 585, 588, 611, 617], [738, 870, 874], \n",
    "                               [962, 881, 951]]\n",
    "target_municipality = [1966, 1961, 1969, 1970, 1978, 1960, 14, 394, 575, 1963, 1959, 1954]\n",
    "com_matrix_18 = commuting_matrix_updater(com_matrix_18, disappearing_municipalities, target_municipality)\n",
    "\n",
    "pathway = 'Databases/Commuting_Matrix_2018.csv'\n",
    "com_matrix_18.to_csv(f'{pathway}')\n",
    "\n",
    "print(len(com_matrix_18))"
   ]
  },
  {
   "cell_type": "markdown",
   "id": "ab053dfc",
   "metadata": {},
   "source": [
    "### 2019 - 2020"
   ]
  },
  {
   "cell_type": "code",
   "execution_count": 45,
   "id": "2255037d",
   "metadata": {},
   "outputs": [],
   "source": [
    "pathway = 'Databases/Commuting_Matrix_2019.csv'\n",
    "com_matrix_19.to_csv(f'{pathway}')"
   ]
  },
  {
   "cell_type": "markdown",
   "id": "48ed1eb7",
   "metadata": {},
   "source": [
    "### 2020"
   ]
  },
  {
   "cell_type": "code",
   "execution_count": 46,
   "id": "96a236d5",
   "metadata": {},
   "outputs": [],
   "source": [
    "pathway = 'Databases/Commuting_Matrix_2020.csv'\n",
    "com_matrix_20.to_csv(f'{pathway}')"
   ]
  },
  {
   "cell_type": "markdown",
   "id": "3587fc5d",
   "metadata": {},
   "source": [
    "There is no changes in municipalities between 2019 and 2020, therefore the DataFrames stay unmodified."
   ]
  },
  {
   "cell_type": "code",
   "execution_count": null,
   "id": "43878e91",
   "metadata": {},
   "outputs": [],
   "source": []
  }
 ],
 "metadata": {
  "kernelspec": {
   "display_name": "Python [conda env:RA] *",
   "language": "python",
   "name": "conda-env-RA-py"
  },
  "language_info": {
   "codemirror_mode": {
    "name": "ipython",
    "version": 3
   },
   "file_extension": ".py",
   "mimetype": "text/x-python",
   "name": "python",
   "nbconvert_exporter": "python",
   "pygments_lexer": "ipython3",
   "version": "3.9.12"
  }
 },
 "nbformat": 4,
 "nbformat_minor": 5
}
