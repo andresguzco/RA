{
 "cells": [
  {
   "cell_type": "code",
   "execution_count": 1,
   "id": "a1982ef6",
   "metadata": {},
   "outputs": [],
   "source": [
    "import pandas as pd\n",
    "import numpy as np"
   ]
  },
  {
   "cell_type": "markdown",
   "id": "b7aa0b20",
   "metadata": {},
   "source": [
    "## Functions"
   ]
  },
  {
   "cell_type": "code",
   "execution_count": 2,
   "id": "bd94ffa1",
   "metadata": {},
   "outputs": [],
   "source": [
    "def dropper(df):\n",
    "    nan_value = float(\"NaN\")\n",
    "    df.replace(0.0, nan_value, inplace=True)\n",
    "    return df"
   ]
  },
  {
   "cell_type": "code",
   "execution_count": 3,
   "id": "2efc388d",
   "metadata": {},
   "outputs": [],
   "source": [
    "def formatter(input_df):\n",
    "    df = input_df\n",
    "    del df['ID']\n",
    "    df.columns = ['Origin', 'Destination', 'Year', 'Commuters', 'Distance']\n",
    "    df['Origin'] = df['Origin'].map(lambda x: x.lstrip('GM'))\n",
    "    df['Destination'] = df['Destination'].map(lambda x: x.lstrip('GM'))\n",
    "    df = dropper(df)\n",
    "    df.dropna(subset=[\"Commuters\"], inplace=True)\n",
    "    df = df.reset_index()\n",
    "    del df['index']\n",
    "    for row in df.iterrows():\n",
    "        X = row[1]['Year']\n",
    "        X = X.split('MM')[0]\n",
    "        Y = row[1]['Commuters']\n",
    "        Y = Y * 1000\n",
    "        df.at[row[0], 'Year'] = X\n",
    "        df.at[row[0], 'Commuters'] = Y\n",
    "    df['Origin'] = df['Origin'].astype(int)\n",
    "    df['Destination'] = df['Destination'].astype(int)\n",
    "    df['Distance'] = df['Distance'].str.split().str.get(-1)\n",
    "    df['Distance'] = pd.to_numeric(df['Distance'], errors='coerce')\n",
    "    df['Distance'] = df['Distance'].astype(float)\n",
    "    return df"
   ]
  },
  {
   "cell_type": "code",
   "execution_count": 4,
   "id": "18ecdd7a",
   "metadata": {},
   "outputs": [],
   "source": [
    "def commuting_matrix_creator(input_df, year):\n",
    "    municipalities = input_df['Origin'].unique().tolist()\n",
    "    output_df = pd.DataFrame(columns=municipalities, index=municipalities)\n",
    "    for i in input_df.itertuples():\n",
    "        output_df.at[i.Origin, i.Destination] = i.Commuters\n",
    "    output_df = output_df.fillna(0)\n",
    "    output_df = output_df.sort_index()\n",
    "    output_df = output_df.sort_index(axis=1)\n",
    "    pathway = 'Databases/Commuting_Matrix_' + str(year) + '.csv'\n",
    "    output_df.to_csv(f'{pathway}')\n",
    "    return output_df"
   ]
  },
  {
   "cell_type": "code",
   "execution_count": 5,
   "id": "999ffd4b",
   "metadata": {},
   "outputs": [],
   "source": [
    "def population_formatter(pathway):\n",
    "    pop_df = pd.read_csv(f'{pathway}', sep=';')\n",
    "    del pop_df['ID']\n",
    "    del pop_df['Sex']\n",
    "    pop_df.columns = ['Region', 'Year', 'Population']\n",
    "    pop_df.dropna(subset=[\"Population\"], inplace=True)\n",
    "    pop_df['Region'] = pop_df['Region'].map(lambda x: x.lstrip('GM'))\n",
    "    pop_df['Region'] = pop_df['Region'].astype(int)\n",
    "    pop_df = pop_df.reset_index()\n",
    "    del pop_df['index']\n",
    "    for row in pop_df.iterrows():\n",
    "        X = row[1]['Year']\n",
    "        X = X.split('JJ')[0]\n",
    "        pop_df.at[row[0], 'Year'] = int(X)\n",
    "    return pop_df"
   ]
  },
  {
   "cell_type": "code",
   "execution_count": 6,
   "id": "56e4ccb7",
   "metadata": {},
   "outputs": [],
   "source": [
    "def format_for_regression(comm_df, pop_df, year):\n",
    "    df = pre_formatter(comm_df.copy())\n",
    "    df2 = pop_df.loc[pop_df['Year'] == int(year)]\n",
    "    for i in df.itertuples():\n",
    "        for j in df2.itertuples():\n",
    "            if i.Origin == j.Region:\n",
    "                df.at[i.Index, 'Origin Pop'] = np.log(j.Population)\n",
    "                if i.Destination == j.Region:\n",
    "                    df.at[i.Index, 'Destination Pop'] = np.log(j.Population)\n",
    "            elif i.Destination == j.Region:\n",
    "                df.at[i.Index, 'Destination Pop'] = np.log(j.Population)\n",
    "    pathway = 'Databases/Regression_DataFrame_' + str(year) + '.csv'\n",
    "    df.to_csv(f'{pathway}')\n",
    "    return df"
   ]
  },
  {
   "cell_type": "code",
   "execution_count": 7,
   "id": "6a68f211",
   "metadata": {},
   "outputs": [],
   "source": [
    "def pre_formatter(input_df):\n",
    "    df = input_df.copy()\n",
    "    for i in df.itertuples():\n",
    "        if i.Distance != 0:\n",
    "            df.at[i.Index, 'Distance'] = np.log(i.Distance)\n",
    "        if i.Commuters != 0:\n",
    "            df.at[i.Index, 'Commuters'] = np.log(i.Commuters)\n",
    "    return df"
   ]
  },
  {
   "cell_type": "code",
   "execution_count": 8,
   "id": "55cd58f9",
   "metadata": {},
   "outputs": [],
   "source": [
    "def get_info(pathway, year, pop_df):\n",
    "    rawdf = formatter(pd.read_csv(f'{pathway}', sep=\";\"))\n",
    "    df = commuting_matrix_creator(rawdf, year)\n",
    "    df_reg = format_for_regression(rawdf, pop_df, year)\n",
    "    return df, df_reg"
   ]
  },
  {
   "cell_type": "code",
   "execution_count": 9,
   "id": "0f302c54",
   "metadata": {},
   "outputs": [],
   "source": [
    "pop_general = population_formatter('Databases/Population 2014-2020.csv')"
   ]
  },
  {
   "cell_type": "code",
   "execution_count": 10,
   "id": "94c34fe4",
   "metadata": {},
   "outputs": [],
   "source": [
    "com_matrix_14, df_14_reg = get_info('Databases/Mobility 2014.csv', 2014, pop_general)\n",
    "com_matrix_15, df_15_reg = get_info('Databases/Mobility 2015.csv', 2015, pop_general)\n",
    "com_matrix_16, df_16_reg = get_info('Databases/Mobility 2016.csv', 2016, pop_general)\n",
    "com_matrix_17, df_17_reg = get_info('Databases/Mobility 2017.csv', 2017, pop_general)\n",
    "com_matrix_18, df_18_reg = get_info('Databases/Mobility 2018.csv', 2018, pop_general)\n",
    "com_matrix_19, df_19_reg = get_info('Databases/Mobility 2019.csv', 2019, pop_general)\n",
    "com_matrix_20, df_20_reg = get_info('Databases/Mobility 2020.csv', 2020, pop_general)"
   ]
  },
  {
   "cell_type": "code",
   "execution_count": 11,
   "id": "ccbe9abf",
   "metadata": {},
   "outputs": [],
   "source": [
    "# aggregate_df_reg = pd.concat([df_14_reg, df_15_reg, df_16_reg, df_17_reg, df_18_reg, df_19_reg, df_20_reg])\n",
    "# aggregate_df_reg.to_csv('Databases/Test_file.csv', index=False)"
   ]
  },
  {
   "cell_type": "markdown",
   "id": "007ee22e",
   "metadata": {},
   "source": [
    "## Changes in borders between municipalities\n",
    "\n",
    "Some years, the Dutch government change municipality's borders by merging small ones into bigger ones for a myriad of reasons. We will identify these year to year modifications in the matrices."
   ]
  },
  {
   "cell_type": "code",
   "execution_count": 12,
   "id": "c9369c1a",
   "metadata": {},
   "outputs": [],
   "source": [
    "municipalities_14 = com_matrix_14.columns.values.tolist()\n",
    "municipalities_15 = com_matrix_15.columns.values.tolist()\n",
    "municipalities_16 = com_matrix_16.columns.values.tolist()\n",
    "municipalities_17 = com_matrix_17.columns.values.tolist()\n",
    "municipalities_18 = com_matrix_18.columns.values.tolist()\n",
    "municipalities_19 = com_matrix_19.columns.values.tolist()\n",
    "municipalities_20 = com_matrix_20.columns.values.tolist()"
   ]
  },
  {
   "cell_type": "code",
   "execution_count": 13,
   "id": "40b98152",
   "metadata": {},
   "outputs": [
    {
     "name": "stdout",
     "output_type": "stream",
     "text": [
      "[265, 282, 365, 458, 491, 568, 608, 612, 623, 643, 644, 1671, 1930, 1931] \n",
      " The modification are: 14 \n",
      " The actual difference should be: 10\n"
     ]
    }
   ],
   "source": [
    "dif_14_15 = list(set(municipalities_14).symmetric_difference(set(municipalities_15)))\n",
    "print(dif_14_15,'\\n', 'The modification are:',len(dif_14_15), '\\n',\n",
    "      'The actual difference should be:',len(com_matrix_14) - len(com_matrix_15))"
   ]
  },
  {
   "cell_type": "code",
   "execution_count": 14,
   "id": "4649b30d",
   "metadata": {},
   "outputs": [
    {
     "name": "stdout",
     "output_type": "stream",
     "text": [
      "[241, 381, 424, 425, 478, 1921, 1940, 1942, 1945] \n",
      " The modification are: 9 \n",
      " The actual difference should be: 3\n"
     ]
    }
   ],
   "source": [
    "dif_15_16 = list(set(municipalities_15).symmetric_difference(set(municipalities_16)))\n",
    "print(dif_15_16,'\\n', 'The modification are:', len(dif_15_16), '\\n',\n",
    "      'The actual difference should be:', len(com_matrix_15) - len(com_matrix_16))"
   ]
  },
  {
   "cell_type": "code",
   "execution_count": 15,
   "id": "a0312158",
   "metadata": {},
   "outputs": [
    {
     "name": "stdout",
     "output_type": "stream",
     "text": [
      "[844, 846, 860, 1948] \n",
      " The modification are: 4 \n",
      " The actual difference should be: 2\n"
     ]
    }
   ],
   "source": [
    "dif_16_17 = list(set(municipalities_16).symmetric_difference(set(municipalities_17)))\n",
    "print(dif_16_17,'\\n', 'The modification are:', len(dif_16_17), '\\n',\n",
    "      'The actual difference should be:', len(com_matrix_16) - len(com_matrix_17))"
   ]
  },
  {
   "cell_type": "code",
   "execution_count": 16,
   "id": "a3a78070",
   "metadata": {},
   "outputs": [
    {
     "name": "stdout",
     "output_type": "stream",
     "text": [
      "[7, 18, 40, 48, 63, 70, 81, 140, 196, 1908, 1949, 1950, 1952, 1987] \n",
      " The modification are: 14 \n",
      " The actual difference should be: 8\n"
     ]
    }
   ],
   "source": [
    "dif_17_18 = list(set(municipalities_17).symmetric_difference(set(municipalities_18)))\n",
    "print(dif_17_18,'\\n', 'The modification are:', len(dif_17_18), '\\n',\n",
    "      'The actual difference should be:', len(com_matrix_17) - len(com_matrix_18))"
   ]
  },
  {
   "cell_type": "code",
   "execution_count": 17,
   "id": "f1880b2c",
   "metadata": {},
   "outputs": [
    {
     "name": "stdout",
     "output_type": "stream",
     "text": [
      "[5, 9, 15, 17, 22, 25, 53, 56, 58, 79, 236, 304, 393, 545, 576, 584, 585, 588, 611, 617, 620, 1651, 1663, 689, 1722, 707, 733, 738, 870, 874, 881, 1927, 1954, 1959, 1960, 1961, 1963, 1966, 1969, 1970, 951, 1978, 962] \n",
      " The modification are: 43 \n",
      " The actual difference should be: 25\n"
     ]
    }
   ],
   "source": [
    "dif_18_19 = list(set(municipalities_18).symmetric_difference(set(municipalities_19)))\n",
    "print(dif_18_19,'\\n', 'The modification are:', len(dif_18_19), '\\n',\n",
    "      'The actual difference should be:', len(com_matrix_18) - len(com_matrix_19))"
   ]
  },
  {
   "cell_type": "code",
   "execution_count": 18,
   "id": "20f38783",
   "metadata": {},
   "outputs": [
    {
     "name": "stdout",
     "output_type": "stream",
     "text": [
      "[] \n",
      " The modification are: 0 \n",
      " The actual difference should be: 0\n"
     ]
    }
   ],
   "source": [
    "dif_19_20 = list(set(municipalities_19).symmetric_difference(set(municipalities_20)))\n",
    "print(dif_19_20,'\\n', 'The modification are:', len(dif_19_20), '\\n',\n",
    "      'The actual difference should be:', len(com_matrix_19) - len(com_matrix_20))"
   ]
  },
  {
   "cell_type": "markdown",
   "id": "acbec558",
   "metadata": {},
   "source": [
    "## Backcasting border changes\n",
    "\n",
    "Every year, some municipalities disappear. Sometimes they merge with other existent municipalities or sometimes a new bigger municipality is created by the fusion of others. In this section we will write a small funciton that will take a given year commuting matrix, the disappearing municipalities and the new one. Then we will create another function that does the same for the other type of DataFrame, the one that also has the distance between municipalities."
   ]
  },
  {
   "cell_type": "code",
   "execution_count": 19,
   "id": "385e308a",
   "metadata": {},
   "outputs": [],
   "source": [
    "def commuting_matrix_updater(commuting_matrix, disappearing_municipality, new_municipality):\n",
    "    df = commuting_matrix.copy()\n",
    "    municipalities = df.columns.values.tolist()\n",
    "    print\n",
    "    if new_municipality in municipalities:\n",
    "        df[new_municipality] += df[disappearing_municipality]\n",
    "        del df[disappearing_municipality]\n",
    "        df = df.T\n",
    "        df[new_municipality] += df[disappearing_municipality]\n",
    "        del df[disappearing_municipality]\n",
    "    else:\n",
    "        df[new_municipality] = df[disappearing_municipality]\n",
    "        del df[disappearing_municipality]\n",
    "        df = df.T\n",
    "        df[new_municipality] = df[disappearing_municipality]\n",
    "        del df[disappearing_municipality]\n",
    "    return df"
   ]
  },
  {
   "cell_type": "code",
   "execution_count": 20,
   "id": "60fac00b",
   "metadata": {},
   "outputs": [],
   "source": [
    "def mobility_dataframe_updater(mobility_dataframe, disappearing_municipalities, new_municipalities):\n",
    "    return"
   ]
  },
  {
   "cell_type": "markdown",
   "id": "e51f4c23",
   "metadata": {},
   "source": [
    "Here, we already have a function that can modify the commuting matrix in the way we mentioned. To avoid problems with the division of municipalities and merging of many into one, we can write a separate loop."
   ]
  },
  {
   "cell_type": "markdown",
   "id": "c6314098",
   "metadata": {},
   "source": [
    "### 2014 - 2020"
   ]
  },
  {
   "cell_type": "markdown",
   "id": "8f1dcaf5",
   "metadata": {},
   "source": [
    "2014 - 2015"
   ]
  },
  {
   "cell_type": "code",
   "execution_count": 21,
   "id": "f65d32dd",
   "metadata": {},
   "outputs": [
    {
     "name": "stdout",
     "output_type": "stream",
     "text": [
      "403\n"
     ]
    }
   ],
   "source": [
    "print(len(com_matrix_14))"
   ]
  },
  {
   "cell_type": "code",
   "execution_count": 22,
   "id": "f0513618",
   "metadata": {},
   "outputs": [
    {
     "name": "stdout",
     "output_type": "stream",
     "text": [
      "394\n"
     ]
    }
   ],
   "source": [
    "disappearing_municipalities = [491, 608, 623, 643, 644]\n",
    "target_municipality = 1931\n",
    "for i in range(len(disappearing_municipalities)):\n",
    "    com_matrix_14 = commuting_matrix_updater(com_matrix_14, disappearing_municipalities[i], target_municipality)\n",
    "\n",
    "disappearing_municipalities = [265, 282]\n",
    "target_municipality = 241\n",
    "for i in range(len(disappearing_municipalities)):\n",
    "    com_matrix_14 = commuting_matrix_updater(com_matrix_14, disappearing_municipalities[i], target_municipality)\n",
    "\n",
    "disappearing_municipalities = [365, 458]\n",
    "target_municipality = 361\n",
    "for i in range(len(disappearing_municipalities)):\n",
    "    com_matrix_14 = commuting_matrix_updater(com_matrix_14, disappearing_municipalities[i], target_municipality)\n",
    "\n",
    "disappearing_municipalities = [568, 612]\n",
    "target_municipality = 1930\n",
    "for i in range(len(disappearing_municipalities)):\n",
    "    com_matrix_14 = commuting_matrix_updater(com_matrix_14, disappearing_municipalities[i], target_municipality)\n",
    "    \n",
    "# Code for the last correction\n",
    "\n",
    "print(len(com_matrix_14))"
   ]
  },
  {
   "cell_type": "markdown",
   "id": "f322a007",
   "metadata": {},
   "source": [
    "Here, I still have to fix a very unusual change in borders that happened at the end of the year. The municipality 1671 got disolved and the municipality 796 took 6719 inhabitants and the municipality 828 took 4629 inhabitants. Therefore there must be a discrepancy of 1 extra municipality in the 2014 matrix."
   ]
  },
  {
   "cell_type": "markdown",
   "id": "ba2dd829",
   "metadata": {},
   "source": [
    "2015 - 2016"
   ]
  },
  {
   "cell_type": "code",
   "execution_count": 23,
   "id": "4767de55",
   "metadata": {},
   "outputs": [
    {
     "name": "stdout",
     "output_type": "stream",
     "text": [
      "391\n"
     ]
    }
   ],
   "source": [
    "disappearing_municipalities = [381, 424, 425]\n",
    "target_municipality = 1942\n",
    "for i in range(len(disappearing_municipalities)):\n",
    "    com_matrix_14 = commuting_matrix_updater(com_matrix_14, disappearing_municipalities[i], target_municipality)\n",
    "\n",
    "disappearing_municipalities = [478]\n",
    "target_municipality = 385\n",
    "for i in range(len(disappearing_municipalities)):\n",
    "    com_matrix_14 = commuting_matrix_updater(com_matrix_14, disappearing_municipalities[i], target_municipality)\n",
    "\n",
    "disappearing_municipalities = [241]\n",
    "target_municipality = 1945\n",
    "for i in range(len(disappearing_municipalities)):\n",
    "    com_matrix_14 = commuting_matrix_updater(com_matrix_14, disappearing_municipalities[i], target_municipality)\n",
    "\n",
    "disappearing_municipalities = [1921]\n",
    "target_municipality = 1940\n",
    "for i in range(len(disappearing_municipalities)):\n",
    "    com_matrix_14 = commuting_matrix_updater(com_matrix_14, disappearing_municipalities[i], target_municipality)\n",
    "print(len(com_matrix_14))"
   ]
  },
  {
   "cell_type": "markdown",
   "id": "787322a8",
   "metadata": {},
   "source": [
    "2016 - 2017"
   ]
  },
  {
   "cell_type": "code",
   "execution_count": 24,
   "id": "c17b803b",
   "metadata": {},
   "outputs": [
    {
     "name": "stdout",
     "output_type": "stream",
     "text": [
      "389\n"
     ]
    }
   ],
   "source": [
    "disappearing_municipalities = [844, 846, 860]\n",
    "target_municipality = 1948\n",
    "for i in range(len(disappearing_municipalities)):\n",
    "    com_matrix_14 = commuting_matrix_updater(com_matrix_14, disappearing_municipalities[i], target_municipality)\n",
    "print(len(com_matrix_14))"
   ]
  },
  {
   "cell_type": "markdown",
   "id": "f94539dc",
   "metadata": {},
   "source": [
    "2017 - 2018"
   ]
  },
  {
   "cell_type": "code",
   "execution_count": 25,
   "id": "da1c7abe",
   "metadata": {},
   "outputs": [
    {
     "name": "stdout",
     "output_type": "stream",
     "text": [
      "381\n"
     ]
    }
   ],
   "source": [
    "disappearing_municipalities = [7, 48]\n",
    "target_municipality = 1950\n",
    "for i in range(len(disappearing_municipalities)):\n",
    "    com_matrix_14 = commuting_matrix_updater(com_matrix_14, disappearing_municipalities[i], target_municipality)\n",
    "\n",
    "disappearing_municipalities = [1987, 18, 40]\n",
    "target_municipality = 1952\n",
    "for i in range(len(disappearing_municipalities)):\n",
    "    com_matrix_14 = commuting_matrix_updater(com_matrix_14, disappearing_municipalities[i], target_municipality)\n",
    "\n",
    "disappearing_municipalities = [81, 140]\n",
    "target_municipality = 80\n",
    "for i in range(len(disappearing_municipalities)):\n",
    "    com_matrix_14 = commuting_matrix_updater(com_matrix_14, disappearing_municipalities[i], target_municipality)\n",
    "\n",
    "disappearing_municipalities = [196]\n",
    "target_municipality = 299\n",
    "for i in range(len(disappearing_municipalities)):\n",
    "    com_matrix_14 = commuting_matrix_updater(com_matrix_14, disappearing_municipalities[i], target_municipality)\n",
    "\n",
    "disappearing_municipalities = [63, 70, 1908]\n",
    "target_municipality = 1949\n",
    "for i in range(len(disappearing_municipalities)):\n",
    "    com_matrix_14 = commuting_matrix_updater(com_matrix_14, disappearing_municipalities[i], target_municipality)\n",
    "print(len(com_matrix_14))"
   ]
  },
  {
   "cell_type": "markdown",
   "id": "90abd373",
   "metadata": {},
   "source": [
    "2018 - 2019"
   ]
  },
  {
   "cell_type": "code",
   "execution_count": 26,
   "id": "0eace7a2",
   "metadata": {},
   "outputs": [
    {
     "name": "stdout",
     "output_type": "stream",
     "text": [
      "356\n"
     ]
    }
   ],
   "source": [
    "disappearing_municipalities = [53, 5, 1651, 1663]\n",
    "target_municipality = 1966\n",
    "for i in range(len(disappearing_municipalities)):\n",
    "    com_matrix_14 = commuting_matrix_updater(com_matrix_14, disappearing_municipalities[i], target_municipality)\n",
    "\n",
    "disappearing_municipalities = [545, 707, 620]\n",
    "target_municipality = 1961\n",
    "for i in range(len(disappearing_municipalities)):\n",
    "    com_matrix_14 = commuting_matrix_updater(com_matrix_14, disappearing_municipalities[i], target_municipality)\n",
    "\n",
    "disappearing_municipalities = [15, 22, 25, 56]\n",
    "target_municipality = 1969\n",
    "for i in range(len(disappearing_municipalities)):\n",
    "    com_matrix_14 = commuting_matrix_updater(com_matrix_14, disappearing_municipalities[i], target_municipality)\n",
    "\n",
    "disappearing_municipalities = [58, 79, 1722]\n",
    "target_municipality = 1970\n",
    "for i in range(len(disappearing_municipalities)):\n",
    "    com_matrix_14 = commuting_matrix_updater(com_matrix_14, disappearing_municipalities[i], target_municipality)\n",
    "\n",
    "disappearing_municipalities = [689, 1927]\n",
    "target_municipality = 1978\n",
    "for i in range(len(disappearing_municipalities)):\n",
    "    com_matrix_14 = commuting_matrix_updater(com_matrix_14, disappearing_municipalities[i], target_municipality)\n",
    "\n",
    "disappearing_municipalities = [236, 304, 733]\n",
    "target_municipality = 1960\n",
    "for i in range(len(disappearing_municipalities)):\n",
    "    com_matrix_14 = commuting_matrix_updater(com_matrix_14, disappearing_municipalities[i], target_municipality)\n",
    "\n",
    "disappearing_municipalities = [17, 9]\n",
    "target_municipality = 14\n",
    "for i in range(len(disappearing_municipalities)):\n",
    "    com_matrix_14 = commuting_matrix_updater(com_matrix_14, disappearing_municipalities[i], target_municipality)\n",
    "\n",
    "disappearing_municipalities = [393]\n",
    "target_municipality = 394\n",
    "for i in range(len(disappearing_municipalities)):\n",
    "    com_matrix_14 = commuting_matrix_updater(com_matrix_14, disappearing_municipalities[i], target_municipality)\n",
    "\n",
    "disappearing_municipalities = [576]\n",
    "target_municipality = 575\n",
    "for i in range(len(disappearing_municipalities)):\n",
    "    com_matrix_14 = commuting_matrix_updater(com_matrix_14, disappearing_municipalities[i], target_municipality)\n",
    "\n",
    "disappearing_municipalities = [584, 585, 588, 611, 617]\n",
    "target_municipality = 1963\n",
    "for i in range(len(disappearing_municipalities)):\n",
    "    com_matrix_14 = commuting_matrix_updater(com_matrix_14, disappearing_municipalities[i], target_municipality)\n",
    "\n",
    "disappearing_municipalities = [738, 870, 874]\n",
    "target_municipality = 1959\n",
    "for i in range(len(disappearing_municipalities)):\n",
    "    com_matrix_14 = commuting_matrix_updater(com_matrix_14, disappearing_municipalities[i], target_municipality)\n",
    "\n",
    "disappearing_municipalities = [962, 881, 951]\n",
    "target_municipality = 1954\n",
    "for i in range(len(disappearing_municipalities)):\n",
    "    com_matrix_14 = commuting_matrix_updater(com_matrix_14, disappearing_municipalities[i], target_municipality)\n",
    "print(len(com_matrix_14))"
   ]
  },
  {
   "cell_type": "markdown",
   "id": "40d1e260",
   "metadata": {},
   "source": [
    "### 2015 - 2020"
   ]
  },
  {
   "cell_type": "markdown",
   "id": "6fce13ef",
   "metadata": {},
   "source": [
    "2015 - 2016"
   ]
  },
  {
   "cell_type": "code",
   "execution_count": 27,
   "id": "d6486ccf",
   "metadata": {},
   "outputs": [
    {
     "name": "stdout",
     "output_type": "stream",
     "text": [
      "390\n"
     ]
    }
   ],
   "source": [
    "disappearing_municipalities = [381, 424, 425]\n",
    "target_municipality = 1942\n",
    "for i in range(len(disappearing_municipalities)):\n",
    "    com_matrix_15 = commuting_matrix_updater(com_matrix_15, disappearing_municipalities[i], target_municipality)\n",
    "\n",
    "disappearing_municipalities = [478]\n",
    "target_municipality = 385\n",
    "for i in range(len(disappearing_municipalities)):\n",
    "    com_matrix_15 = commuting_matrix_updater(com_matrix_15, disappearing_municipalities[i], target_municipality)\n",
    "\n",
    "disappearing_municipalities = [241]\n",
    "target_municipality = 1945\n",
    "for i in range(len(disappearing_municipalities)):\n",
    "    com_matrix_15 = commuting_matrix_updater(com_matrix_15, disappearing_municipalities[i], target_municipality)\n",
    "\n",
    "disappearing_municipalities = [1921]\n",
    "target_municipality = 1940\n",
    "for i in range(len(disappearing_municipalities)):\n",
    "    com_matrix_15 = commuting_matrix_updater(com_matrix_15, disappearing_municipalities[i], target_municipality)\n",
    "print(len(com_matrix_15))"
   ]
  },
  {
   "cell_type": "markdown",
   "id": "4a051c3f",
   "metadata": {},
   "source": [
    "2016 - 2017"
   ]
  },
  {
   "cell_type": "code",
   "execution_count": 28,
   "id": "5c5bf6a2",
   "metadata": {},
   "outputs": [
    {
     "name": "stdout",
     "output_type": "stream",
     "text": [
      "388\n"
     ]
    }
   ],
   "source": [
    "disappearing_municipalities = [844, 846, 860]\n",
    "target_municipality = 1948\n",
    "for i in range(len(disappearing_municipalities)):\n",
    "    com_matrix_15 = commuting_matrix_updater(com_matrix_15, disappearing_municipalities[i], target_municipality)\n",
    "print(len(com_matrix_15))"
   ]
  },
  {
   "cell_type": "markdown",
   "id": "4a75acf5",
   "metadata": {},
   "source": [
    "2017 - 2018"
   ]
  },
  {
   "cell_type": "code",
   "execution_count": 29,
   "id": "b8f2170f",
   "metadata": {},
   "outputs": [
    {
     "name": "stdout",
     "output_type": "stream",
     "text": [
      "380\n"
     ]
    }
   ],
   "source": [
    "disappearing_municipalities = [7, 48]\n",
    "target_municipality = 1950\n",
    "for i in range(len(disappearing_municipalities)):\n",
    "    com_matrix_15 = commuting_matrix_updater(com_matrix_15, disappearing_municipalities[i], target_municipality)\n",
    "\n",
    "disappearing_municipalities = [1987, 18, 40]\n",
    "target_municipality = 1952\n",
    "for i in range(len(disappearing_municipalities)):\n",
    "    com_matrix_15 = commuting_matrix_updater(com_matrix_15, disappearing_municipalities[i], target_municipality)\n",
    "\n",
    "disappearing_municipalities = [81, 140]\n",
    "target_municipality = 80\n",
    "for i in range(len(disappearing_municipalities)):\n",
    "    com_matrix_15 = commuting_matrix_updater(com_matrix_15, disappearing_municipalities[i], target_municipality)\n",
    "\n",
    "disappearing_municipalities = [196]\n",
    "target_municipality = 299\n",
    "for i in range(len(disappearing_municipalities)):\n",
    "    com_matrix_15 = commuting_matrix_updater(com_matrix_15, disappearing_municipalities[i], target_municipality)\n",
    "\n",
    "disappearing_municipalities = [63, 70, 1908]\n",
    "target_municipality = 1949\n",
    "for i in range(len(disappearing_municipalities)):\n",
    "    com_matrix_15 = commuting_matrix_updater(com_matrix_15, disappearing_municipalities[i], target_municipality)\n",
    "print(len(com_matrix_15))"
   ]
  },
  {
   "cell_type": "markdown",
   "id": "68ae63bf",
   "metadata": {},
   "source": [
    "2018 - 2019"
   ]
  },
  {
   "cell_type": "code",
   "execution_count": 30,
   "id": "e3d89933",
   "metadata": {},
   "outputs": [
    {
     "name": "stdout",
     "output_type": "stream",
     "text": [
      "355\n"
     ]
    }
   ],
   "source": [
    "disappearing_municipalities = [53, 5, 1651, 1663]\n",
    "target_municipality = 1966\n",
    "for i in range(len(disappearing_municipalities)):\n",
    "    com_matrix_15 = commuting_matrix_updater(com_matrix_15, disappearing_municipalities[i], target_municipality)\n",
    "\n",
    "disappearing_municipalities = [545, 707, 620]\n",
    "target_municipality = 1961\n",
    "for i in range(len(disappearing_municipalities)):\n",
    "    com_matrix_15 = commuting_matrix_updater(com_matrix_15, disappearing_municipalities[i], target_municipality)\n",
    "\n",
    "disappearing_municipalities = [15, 22, 25, 56]\n",
    "target_municipality = 1969\n",
    "for i in range(len(disappearing_municipalities)):\n",
    "    com_matrix_15 = commuting_matrix_updater(com_matrix_15, disappearing_municipalities[i], target_municipality)\n",
    "\n",
    "disappearing_municipalities = [58, 79, 1722]\n",
    "target_municipality = 1970\n",
    "for i in range(len(disappearing_municipalities)):\n",
    "    com_matrix_15 = commuting_matrix_updater(com_matrix_15, disappearing_municipalities[i], target_municipality)\n",
    "\n",
    "disappearing_municipalities = [689, 1927]\n",
    "target_municipality = 1978\n",
    "for i in range(len(disappearing_municipalities)):\n",
    "    com_matrix_15 = commuting_matrix_updater(com_matrix_15, disappearing_municipalities[i], target_municipality)\n",
    "\n",
    "disappearing_municipalities = [236, 304, 733]\n",
    "target_municipality = 1960\n",
    "for i in range(len(disappearing_municipalities)):\n",
    "    com_matrix_15 = commuting_matrix_updater(com_matrix_15, disappearing_municipalities[i], target_municipality)\n",
    "\n",
    "disappearing_municipalities = [17, 9]\n",
    "target_municipality = 14\n",
    "for i in range(len(disappearing_municipalities)):\n",
    "    com_matrix_15 = commuting_matrix_updater(com_matrix_15, disappearing_municipalities[i], target_municipality)\n",
    "\n",
    "disappearing_municipalities = [393]\n",
    "target_municipality = 394\n",
    "for i in range(len(disappearing_municipalities)):\n",
    "    com_matrix_15 = commuting_matrix_updater(com_matrix_15, disappearing_municipalities[i], target_municipality)\n",
    "\n",
    "disappearing_municipalities = [576]\n",
    "target_municipality = 575\n",
    "for i in range(len(disappearing_municipalities)):\n",
    "    com_matrix_15 = commuting_matrix_updater(com_matrix_15, disappearing_municipalities[i], target_municipality)\n",
    "\n",
    "disappearing_municipalities = [584, 585, 588, 611, 617]\n",
    "target_municipality = 1963\n",
    "for i in range(len(disappearing_municipalities)):\n",
    "    com_matrix_15 = commuting_matrix_updater(com_matrix_15, disappearing_municipalities[i], target_municipality)\n",
    "\n",
    "disappearing_municipalities = [738, 870, 874]\n",
    "target_municipality = 1959\n",
    "for i in range(len(disappearing_municipalities)):\n",
    "    com_matrix_15 = commuting_matrix_updater(com_matrix_15, disappearing_municipalities[i], target_municipality)\n",
    "\n",
    "disappearing_municipalities = [962, 881, 951]\n",
    "target_municipality = 1954\n",
    "for i in range(len(disappearing_municipalities)):\n",
    "    com_matrix_15 = commuting_matrix_updater(com_matrix_15, disappearing_municipalities[i], target_municipality)\n",
    "print(len(com_matrix_15))"
   ]
  },
  {
   "cell_type": "markdown",
   "id": "1279714f",
   "metadata": {},
   "source": [
    "### 2016 - 2020"
   ]
  },
  {
   "cell_type": "markdown",
   "id": "be9cfb89",
   "metadata": {},
   "source": [
    "2016 - 2017"
   ]
  },
  {
   "cell_type": "code",
   "execution_count": 31,
   "id": "4bae33e7",
   "metadata": {},
   "outputs": [
    {
     "name": "stdout",
     "output_type": "stream",
     "text": [
      "388\n"
     ]
    }
   ],
   "source": [
    "disappearing_municipalities = [844, 846, 860]\n",
    "target_municipality = 1948\n",
    "for i in range(len(disappearing_municipalities)):\n",
    "    com_matrix_16 = commuting_matrix_updater(com_matrix_16, disappearing_municipalities[i], target_municipality)\n",
    "print(len(com_matrix_16))"
   ]
  },
  {
   "cell_type": "markdown",
   "id": "5cf80414",
   "metadata": {},
   "source": [
    "2017 - 2018"
   ]
  },
  {
   "cell_type": "code",
   "execution_count": 32,
   "id": "14b10b38",
   "metadata": {},
   "outputs": [
    {
     "name": "stdout",
     "output_type": "stream",
     "text": [
      "380\n"
     ]
    }
   ],
   "source": [
    "disappearing_municipalities = [7, 48]\n",
    "target_municipality = 1950\n",
    "for i in range(len(disappearing_municipalities)):\n",
    "    com_matrix_16 = commuting_matrix_updater(com_matrix_16, disappearing_municipalities[i], target_municipality)\n",
    "\n",
    "disappearing_municipalities = [1987, 18, 40]\n",
    "target_municipality = 1952\n",
    "for i in range(len(disappearing_municipalities)):\n",
    "    com_matrix_16 = commuting_matrix_updater(com_matrix_16, disappearing_municipalities[i], target_municipality)\n",
    "\n",
    "disappearing_municipalities = [81, 140]\n",
    "target_municipality = 80\n",
    "for i in range(len(disappearing_municipalities)):\n",
    "    com_matrix_16 = commuting_matrix_updater(com_matrix_16, disappearing_municipalities[i], target_municipality)\n",
    "\n",
    "disappearing_municipalities = [196]\n",
    "target_municipality = 299\n",
    "for i in range(len(disappearing_municipalities)):\n",
    "    com_matrix_16 = commuting_matrix_updater(com_matrix_16, disappearing_municipalities[i], target_municipality)\n",
    "\n",
    "disappearing_municipalities = [63, 70, 1908]\n",
    "target_municipality = 1949\n",
    "for i in range(len(disappearing_municipalities)):\n",
    "    com_matrix_16 = commuting_matrix_updater(com_matrix_16, disappearing_municipalities[i], target_municipality)\n",
    "print(len(com_matrix_16))"
   ]
  },
  {
   "cell_type": "markdown",
   "id": "521d5d53",
   "metadata": {},
   "source": [
    "2018 - 2019"
   ]
  },
  {
   "cell_type": "code",
   "execution_count": 33,
   "id": "77800b54",
   "metadata": {},
   "outputs": [
    {
     "name": "stdout",
     "output_type": "stream",
     "text": [
      "355\n"
     ]
    }
   ],
   "source": [
    "disappearing_municipalities = [53, 5, 1651, 1663]\n",
    "target_municipality = 1966\n",
    "for i in range(len(disappearing_municipalities)):\n",
    "    com_matrix_16 = commuting_matrix_updater(com_matrix_16, disappearing_municipalities[i], target_municipality)\n",
    "\n",
    "disappearing_municipalities = [545, 707, 620]\n",
    "target_municipality = 1961\n",
    "for i in range(len(disappearing_municipalities)):\n",
    "    com_matrix_16 = commuting_matrix_updater(com_matrix_16, disappearing_municipalities[i], target_municipality)\n",
    "\n",
    "disappearing_municipalities = [15, 22, 25, 56]\n",
    "target_municipality = 1969\n",
    "for i in range(len(disappearing_municipalities)):\n",
    "    com_matrix_16 = commuting_matrix_updater(com_matrix_16, disappearing_municipalities[i], target_municipality)\n",
    "\n",
    "disappearing_municipalities = [58, 79, 1722]\n",
    "target_municipality = 1970\n",
    "for i in range(len(disappearing_municipalities)):\n",
    "    com_matrix_16 = commuting_matrix_updater(com_matrix_16, disappearing_municipalities[i], target_municipality)\n",
    "\n",
    "disappearing_municipalities = [689, 1927]\n",
    "target_municipality = 1978\n",
    "for i in range(len(disappearing_municipalities)):\n",
    "    com_matrix_16 = commuting_matrix_updater(com_matrix_16, disappearing_municipalities[i], target_municipality)\n",
    "\n",
    "disappearing_municipalities = [236, 304, 733]\n",
    "target_municipality = 1960\n",
    "for i in range(len(disappearing_municipalities)):\n",
    "    com_matrix_16 = commuting_matrix_updater(com_matrix_16, disappearing_municipalities[i], target_municipality)\n",
    "\n",
    "disappearing_municipalities = [17, 9]\n",
    "target_municipality = 14\n",
    "for i in range(len(disappearing_municipalities)):\n",
    "    com_matrix_16 = commuting_matrix_updater(com_matrix_16, disappearing_municipalities[i], target_municipality)\n",
    "\n",
    "disappearing_municipalities = [393]\n",
    "target_municipality = 394\n",
    "for i in range(len(disappearing_municipalities)):\n",
    "    com_matrix_16 = commuting_matrix_updater(com_matrix_16, disappearing_municipalities[i], target_municipality)\n",
    "\n",
    "disappearing_municipalities = [576]\n",
    "target_municipality = 575\n",
    "for i in range(len(disappearing_municipalities)):\n",
    "    com_matrix_16 = commuting_matrix_updater(com_matrix_16, disappearing_municipalities[i], target_municipality)\n",
    "\n",
    "disappearing_municipalities = [584, 585, 588, 611, 617]\n",
    "target_municipality = 1963\n",
    "for i in range(len(disappearing_municipalities)):\n",
    "    com_matrix_16 = commuting_matrix_updater(com_matrix_16, disappearing_municipalities[i], target_municipality)\n",
    "\n",
    "disappearing_municipalities = [738, 870, 874]\n",
    "target_municipality = 1959\n",
    "for i in range(len(disappearing_municipalities)):\n",
    "    com_matrix_16 = commuting_matrix_updater(com_matrix_16, disappearing_municipalities[i], target_municipality)\n",
    "\n",
    "disappearing_municipalities = [962, 881, 951]\n",
    "target_municipality = 1954\n",
    "for i in range(len(disappearing_municipalities)):\n",
    "    com_matrix_16 = commuting_matrix_updater(com_matrix_16, disappearing_municipalities[i], target_municipality)\n",
    "print(len(com_matrix_16))"
   ]
  },
  {
   "cell_type": "markdown",
   "id": "70d13caa",
   "metadata": {},
   "source": [
    "### 2017 - 2020"
   ]
  },
  {
   "cell_type": "markdown",
   "id": "e1f4c900",
   "metadata": {},
   "source": [
    "2017 - 2018"
   ]
  },
  {
   "cell_type": "code",
   "execution_count": 34,
   "id": "32500ab5",
   "metadata": {},
   "outputs": [
    {
     "name": "stdout",
     "output_type": "stream",
     "text": [
      "380\n"
     ]
    }
   ],
   "source": [
    "disappearing_municipalities = [7, 48]\n",
    "target_municipality = 1950\n",
    "for i in range(len(disappearing_municipalities)):\n",
    "    com_matrix_17 = commuting_matrix_updater(com_matrix_17, disappearing_municipalities[i], target_municipality)\n",
    "\n",
    "disappearing_municipalities = [1987, 18, 40]\n",
    "target_municipality = 1952\n",
    "for i in range(len(disappearing_municipalities)):\n",
    "    com_matrix_17 = commuting_matrix_updater(com_matrix_17, disappearing_municipalities[i], target_municipality)\n",
    "\n",
    "disappearing_municipalities = [81, 140]\n",
    "target_municipality = 80\n",
    "for i in range(len(disappearing_municipalities)):\n",
    "    com_matrix_17 = commuting_matrix_updater(com_matrix_17, disappearing_municipalities[i], target_municipality)\n",
    "\n",
    "disappearing_municipalities = [196]\n",
    "target_municipality = 299\n",
    "for i in range(len(disappearing_municipalities)):\n",
    "    com_matrix_17 = commuting_matrix_updater(com_matrix_17, disappearing_municipalities[i], target_municipality)\n",
    "\n",
    "disappearing_municipalities = [63, 70, 1908]\n",
    "target_municipality = 1949\n",
    "for i in range(len(disappearing_municipalities)):\n",
    "    com_matrix_17 = commuting_matrix_updater(com_matrix_17, disappearing_municipalities[i], target_municipality)\n",
    "print(len(com_matrix_17))"
   ]
  },
  {
   "cell_type": "markdown",
   "id": "ee6a01f6",
   "metadata": {},
   "source": [
    "2018 - 2019"
   ]
  },
  {
   "cell_type": "code",
   "execution_count": 35,
   "id": "c9105e47",
   "metadata": {},
   "outputs": [
    {
     "name": "stdout",
     "output_type": "stream",
     "text": [
      "355\n"
     ]
    }
   ],
   "source": [
    "disappearing_municipalities = [53, 5, 1651, 1663]\n",
    "target_municipality = 1966\n",
    "for i in range(len(disappearing_municipalities)):\n",
    "    com_matrix_17 = commuting_matrix_updater(com_matrix_17, disappearing_municipalities[i], target_municipality)\n",
    "\n",
    "disappearing_municipalities = [545, 707, 620]\n",
    "target_municipality = 1961\n",
    "for i in range(len(disappearing_municipalities)):\n",
    "    com_matrix_17 = commuting_matrix_updater(com_matrix_17, disappearing_municipalities[i], target_municipality)\n",
    "\n",
    "disappearing_municipalities = [15, 22, 25, 56]\n",
    "target_municipality = 1969\n",
    "for i in range(len(disappearing_municipalities)):\n",
    "    com_matrix_17 = commuting_matrix_updater(com_matrix_17, disappearing_municipalities[i], target_municipality)\n",
    "\n",
    "disappearing_municipalities = [58, 79, 1722]\n",
    "target_municipality = 1970\n",
    "for i in range(len(disappearing_municipalities)):\n",
    "    com_matrix_17 = commuting_matrix_updater(com_matrix_17, disappearing_municipalities[i], target_municipality)\n",
    "\n",
    "disappearing_municipalities = [689, 1927]\n",
    "target_municipality = 1978\n",
    "for i in range(len(disappearing_municipalities)):\n",
    "    com_matrix_17 = commuting_matrix_updater(com_matrix_17, disappearing_municipalities[i], target_municipality)\n",
    "\n",
    "disappearing_municipalities = [236, 304, 733]\n",
    "target_municipality = 1960\n",
    "for i in range(len(disappearing_municipalities)):\n",
    "    com_matrix_17 = commuting_matrix_updater(com_matrix_17, disappearing_municipalities[i], target_municipality)\n",
    "\n",
    "disappearing_municipalities = [17, 9]\n",
    "target_municipality = 14\n",
    "for i in range(len(disappearing_municipalities)):\n",
    "    com_matrix_17 = commuting_matrix_updater(com_matrix_17, disappearing_municipalities[i], target_municipality)\n",
    "\n",
    "disappearing_municipalities = [393]\n",
    "target_municipality = 394\n",
    "for i in range(len(disappearing_municipalities)):\n",
    "    com_matrix_17 = commuting_matrix_updater(com_matrix_17, disappearing_municipalities[i], target_municipality)\n",
    "\n",
    "disappearing_municipalities = [576]\n",
    "target_municipality = 575\n",
    "for i in range(len(disappearing_municipalities)):\n",
    "    com_matrix_17 = commuting_matrix_updater(com_matrix_17, disappearing_municipalities[i], target_municipality)\n",
    "\n",
    "disappearing_municipalities = [584, 585, 588, 611, 617]\n",
    "target_municipality = 1963\n",
    "for i in range(len(disappearing_municipalities)):\n",
    "    com_matrix_17 = commuting_matrix_updater(com_matrix_17, disappearing_municipalities[i], target_municipality)\n",
    "\n",
    "disappearing_municipalities = [738, 870, 874]\n",
    "target_municipality = 1959\n",
    "for i in range(len(disappearing_municipalities)):\n",
    "    com_matrix_17 = commuting_matrix_updater(com_matrix_17, disappearing_municipalities[i], target_municipality)\n",
    "\n",
    "disappearing_municipalities = [962, 881, 951]\n",
    "target_municipality = 1954\n",
    "for i in range(len(disappearing_municipalities)):\n",
    "    com_matrix_17 = commuting_matrix_updater(com_matrix_17, disappearing_municipalities[i], target_municipality)\n",
    "print(len(com_matrix_17))"
   ]
  },
  {
   "cell_type": "markdown",
   "id": "2161e8c5",
   "metadata": {},
   "source": [
    "### 2018 - 2020"
   ]
  },
  {
   "cell_type": "markdown",
   "id": "de594b31",
   "metadata": {},
   "source": [
    "2018 - 2019"
   ]
  },
  {
   "cell_type": "code",
   "execution_count": 36,
   "id": "17f602e1",
   "metadata": {},
   "outputs": [
    {
     "name": "stdout",
     "output_type": "stream",
     "text": [
      "355\n"
     ]
    }
   ],
   "source": [
    "disappearing_municipalities = [53, 5, 1651, 1663]\n",
    "target_municipality = 1966\n",
    "for i in range(len(disappearing_municipalities)):\n",
    "    com_matrix_18 = commuting_matrix_updater(com_matrix_18, disappearing_municipalities[i], target_municipality)\n",
    "\n",
    "disappearing_municipalities = [545, 707, 620]\n",
    "target_municipality = 1961\n",
    "for i in range(len(disappearing_municipalities)):\n",
    "    com_matrix_18 = commuting_matrix_updater(com_matrix_18, disappearing_municipalities[i], target_municipality)\n",
    "\n",
    "disappearing_municipalities = [15, 22, 25, 56]\n",
    "target_municipality = 1969\n",
    "for i in range(len(disappearing_municipalities)):\n",
    "    com_matrix_18 = commuting_matrix_updater(com_matrix_18, disappearing_municipalities[i], target_municipality)\n",
    "\n",
    "disappearing_municipalities = [58, 79, 1722]\n",
    "target_municipality = 1970\n",
    "for i in range(len(disappearing_municipalities)):\n",
    "    com_matrix_18 = commuting_matrix_updater(com_matrix_18, disappearing_municipalities[i], target_municipality)\n",
    "\n",
    "disappearing_municipalities = [689, 1927]\n",
    "target_municipality = 1978\n",
    "for i in range(len(disappearing_municipalities)):\n",
    "    com_matrix_18 = commuting_matrix_updater(com_matrix_18, disappearing_municipalities[i], target_municipality)\n",
    "\n",
    "disappearing_municipalities = [236, 304, 733]\n",
    "target_municipality = 1960\n",
    "for i in range(len(disappearing_municipalities)):\n",
    "    com_matrix_18 = commuting_matrix_updater(com_matrix_18, disappearing_municipalities[i], target_municipality)\n",
    "\n",
    "disappearing_municipalities = [17, 9]\n",
    "target_municipality = 14\n",
    "for i in range(len(disappearing_municipalities)):\n",
    "    com_matrix_18 = commuting_matrix_updater(com_matrix_18, disappearing_municipalities[i], target_municipality)\n",
    "\n",
    "disappearing_municipalities = [393]\n",
    "target_municipality = 394\n",
    "for i in range(len(disappearing_municipalities)):\n",
    "    com_matrix_18 = commuting_matrix_updater(com_matrix_18, disappearing_municipalities[i], target_municipality)\n",
    "\n",
    "disappearing_municipalities = [576]\n",
    "target_municipality = 575\n",
    "for i in range(len(disappearing_municipalities)):\n",
    "    com_matrix_18 = commuting_matrix_updater(com_matrix_18, disappearing_municipalities[i], target_municipality)\n",
    "\n",
    "disappearing_municipalities = [584, 585, 588, 611, 617]\n",
    "target_municipality = 1963\n",
    "for i in range(len(disappearing_municipalities)):\n",
    "    com_matrix_18 = commuting_matrix_updater(com_matrix_18, disappearing_municipalities[i], target_municipality)\n",
    "\n",
    "disappearing_municipalities = [738, 870, 874]\n",
    "target_municipality = 1959\n",
    "for i in range(len(disappearing_municipalities)):\n",
    "    com_matrix_18 = commuting_matrix_updater(com_matrix_18, disappearing_municipalities[i], target_municipality)\n",
    "\n",
    "disappearing_municipalities = [962, 881, 951]\n",
    "target_municipality = 1954\n",
    "for i in range(len(disappearing_municipalities)):\n",
    "    com_matrix_18 = commuting_matrix_updater(com_matrix_18, disappearing_municipalities[i], target_municipality)\n",
    "print(len(com_matrix_18))"
   ]
  },
  {
   "cell_type": "markdown",
   "id": "ab053dfc",
   "metadata": {},
   "source": [
    "### 2019 - 2020"
   ]
  },
  {
   "cell_type": "markdown",
   "id": "3587fc5d",
   "metadata": {},
   "source": [
    "There is no changes in municipalities between 2019 and 2020, therefore the DataFrames stay unmodified."
   ]
  },
  {
   "cell_type": "code",
   "execution_count": 37,
   "id": "8e287d4d",
   "metadata": {},
   "outputs": [
    {
     "data": {
      "text/html": [
       "<div>\n",
       "<style scoped>\n",
       "    .dataframe tbody tr th:only-of-type {\n",
       "        vertical-align: middle;\n",
       "    }\n",
       "\n",
       "    .dataframe tbody tr th {\n",
       "        vertical-align: top;\n",
       "    }\n",
       "\n",
       "    .dataframe thead th {\n",
       "        text-align: right;\n",
       "    }\n",
       "</style>\n",
       "<table border=\"1\" class=\"dataframe\">\n",
       "  <thead>\n",
       "    <tr style=\"text-align: right;\">\n",
       "      <th></th>\n",
       "      <th>3</th>\n",
       "      <th>10</th>\n",
       "      <th>14</th>\n",
       "      <th>24</th>\n",
       "      <th>34</th>\n",
       "      <th>37</th>\n",
       "      <th>47</th>\n",
       "      <th>50</th>\n",
       "      <th>59</th>\n",
       "      <th>60</th>\n",
       "      <th>...</th>\n",
       "      <th>1949</th>\n",
       "      <th>1966</th>\n",
       "      <th>1961</th>\n",
       "      <th>1969</th>\n",
       "      <th>1970</th>\n",
       "      <th>1978</th>\n",
       "      <th>1960</th>\n",
       "      <th>1963</th>\n",
       "      <th>1959</th>\n",
       "      <th>1954</th>\n",
       "    </tr>\n",
       "  </thead>\n",
       "  <tbody>\n",
       "    <tr>\n",
       "      <th>3</th>\n",
       "      <td>1100.0</td>\n",
       "      <td>500.0</td>\n",
       "      <td>300.0</td>\n",
       "      <td>100.0</td>\n",
       "      <td>0.0</td>\n",
       "      <td>0.0</td>\n",
       "      <td>0.0</td>\n",
       "      <td>0.0</td>\n",
       "      <td>0.0</td>\n",
       "      <td>0.0</td>\n",
       "      <td>...</td>\n",
       "      <td>0.0</td>\n",
       "      <td>300.0</td>\n",
       "      <td>0.0</td>\n",
       "      <td>0.0</td>\n",
       "      <td>0.0</td>\n",
       "      <td>0.0</td>\n",
       "      <td>0.0</td>\n",
       "      <td>0.0</td>\n",
       "      <td>0.0</td>\n",
       "      <td>0.0</td>\n",
       "    </tr>\n",
       "    <tr>\n",
       "      <th>10</th>\n",
       "      <td>1100.0</td>\n",
       "      <td>4300.0</td>\n",
       "      <td>900.0</td>\n",
       "      <td>400.0</td>\n",
       "      <td>0.0</td>\n",
       "      <td>100.0</td>\n",
       "      <td>200.0</td>\n",
       "      <td>0.0</td>\n",
       "      <td>0.0</td>\n",
       "      <td>100.0</td>\n",
       "      <td>...</td>\n",
       "      <td>0.0</td>\n",
       "      <td>800.0</td>\n",
       "      <td>0.0</td>\n",
       "      <td>0.0</td>\n",
       "      <td>100.0</td>\n",
       "      <td>0.0</td>\n",
       "      <td>0.0</td>\n",
       "      <td>0.0</td>\n",
       "      <td>0.0</td>\n",
       "      <td>0.0</td>\n",
       "    </tr>\n",
       "    <tr>\n",
       "      <th>14</th>\n",
       "      <td>900.0</td>\n",
       "      <td>1300.0</td>\n",
       "      <td>69300.0</td>\n",
       "      <td>1300.0</td>\n",
       "      <td>100.0</td>\n",
       "      <td>800.0</td>\n",
       "      <td>1700.0</td>\n",
       "      <td>0.0</td>\n",
       "      <td>800.0</td>\n",
       "      <td>0.0</td>\n",
       "      <td>...</td>\n",
       "      <td>400.0</td>\n",
       "      <td>7600.0</td>\n",
       "      <td>0.0</td>\n",
       "      <td>7700.0</td>\n",
       "      <td>800.0</td>\n",
       "      <td>0.0</td>\n",
       "      <td>0.0</td>\n",
       "      <td>0.0</td>\n",
       "      <td>0.0</td>\n",
       "      <td>0.0</td>\n",
       "    </tr>\n",
       "    <tr>\n",
       "      <th>24</th>\n",
       "      <td>100.0</td>\n",
       "      <td>200.0</td>\n",
       "      <td>100.0</td>\n",
       "      <td>700.0</td>\n",
       "      <td>0.0</td>\n",
       "      <td>0.0</td>\n",
       "      <td>0.0</td>\n",
       "      <td>0.0</td>\n",
       "      <td>0.0</td>\n",
       "      <td>0.0</td>\n",
       "      <td>...</td>\n",
       "      <td>0.0</td>\n",
       "      <td>200.0</td>\n",
       "      <td>0.0</td>\n",
       "      <td>0.0</td>\n",
       "      <td>0.0</td>\n",
       "      <td>0.0</td>\n",
       "      <td>0.0</td>\n",
       "      <td>0.0</td>\n",
       "      <td>0.0</td>\n",
       "      <td>0.0</td>\n",
       "    </tr>\n",
       "    <tr>\n",
       "      <th>34</th>\n",
       "      <td>0.0</td>\n",
       "      <td>0.0</td>\n",
       "      <td>100.0</td>\n",
       "      <td>0.0</td>\n",
       "      <td>32900.0</td>\n",
       "      <td>0.0</td>\n",
       "      <td>100.0</td>\n",
       "      <td>800.0</td>\n",
       "      <td>0.0</td>\n",
       "      <td>0.0</td>\n",
       "      <td>...</td>\n",
       "      <td>0.0</td>\n",
       "      <td>0.0</td>\n",
       "      <td>0.0</td>\n",
       "      <td>0.0</td>\n",
       "      <td>0.0</td>\n",
       "      <td>0.0</td>\n",
       "      <td>0.0</td>\n",
       "      <td>0.0</td>\n",
       "      <td>0.0</td>\n",
       "      <td>0.0</td>\n",
       "    </tr>\n",
       "    <tr>\n",
       "      <th>...</th>\n",
       "      <td>...</td>\n",
       "      <td>...</td>\n",
       "      <td>...</td>\n",
       "      <td>...</td>\n",
       "      <td>...</td>\n",
       "      <td>...</td>\n",
       "      <td>...</td>\n",
       "      <td>...</td>\n",
       "      <td>...</td>\n",
       "      <td>...</td>\n",
       "      <td>...</td>\n",
       "      <td>...</td>\n",
       "      <td>...</td>\n",
       "      <td>...</td>\n",
       "      <td>...</td>\n",
       "      <td>...</td>\n",
       "      <td>...</td>\n",
       "      <td>...</td>\n",
       "      <td>...</td>\n",
       "      <td>...</td>\n",
       "      <td>...</td>\n",
       "    </tr>\n",
       "    <tr>\n",
       "      <th>1978</th>\n",
       "      <td>0.0</td>\n",
       "      <td>0.0</td>\n",
       "      <td>0.0</td>\n",
       "      <td>0.0</td>\n",
       "      <td>0.0</td>\n",
       "      <td>0.0</td>\n",
       "      <td>0.0</td>\n",
       "      <td>0.0</td>\n",
       "      <td>0.0</td>\n",
       "      <td>0.0</td>\n",
       "      <td>...</td>\n",
       "      <td>0.0</td>\n",
       "      <td>0.0</td>\n",
       "      <td>800.0</td>\n",
       "      <td>0.0</td>\n",
       "      <td>0.0</td>\n",
       "      <td>5600.0</td>\n",
       "      <td>200.0</td>\n",
       "      <td>100.0</td>\n",
       "      <td>300.0</td>\n",
       "      <td>0.0</td>\n",
       "    </tr>\n",
       "    <tr>\n",
       "      <th>1960</th>\n",
       "      <td>0.0</td>\n",
       "      <td>0.0</td>\n",
       "      <td>0.0</td>\n",
       "      <td>0.0</td>\n",
       "      <td>0.0</td>\n",
       "      <td>0.0</td>\n",
       "      <td>0.0</td>\n",
       "      <td>0.0</td>\n",
       "      <td>0.0</td>\n",
       "      <td>0.0</td>\n",
       "      <td>...</td>\n",
       "      <td>0.0</td>\n",
       "      <td>0.0</td>\n",
       "      <td>800.0</td>\n",
       "      <td>0.0</td>\n",
       "      <td>0.0</td>\n",
       "      <td>100.0</td>\n",
       "      <td>7400.0</td>\n",
       "      <td>0.0</td>\n",
       "      <td>100.0</td>\n",
       "      <td>0.0</td>\n",
       "    </tr>\n",
       "    <tr>\n",
       "      <th>1963</th>\n",
       "      <td>0.0</td>\n",
       "      <td>0.0</td>\n",
       "      <td>0.0</td>\n",
       "      <td>0.0</td>\n",
       "      <td>0.0</td>\n",
       "      <td>0.0</td>\n",
       "      <td>0.0</td>\n",
       "      <td>0.0</td>\n",
       "      <td>0.0</td>\n",
       "      <td>0.0</td>\n",
       "      <td>...</td>\n",
       "      <td>0.0</td>\n",
       "      <td>0.0</td>\n",
       "      <td>0.0</td>\n",
       "      <td>0.0</td>\n",
       "      <td>0.0</td>\n",
       "      <td>0.0</td>\n",
       "      <td>0.0</td>\n",
       "      <td>15700.0</td>\n",
       "      <td>0.0</td>\n",
       "      <td>0.0</td>\n",
       "    </tr>\n",
       "    <tr>\n",
       "      <th>1959</th>\n",
       "      <td>0.0</td>\n",
       "      <td>0.0</td>\n",
       "      <td>0.0</td>\n",
       "      <td>0.0</td>\n",
       "      <td>0.0</td>\n",
       "      <td>0.0</td>\n",
       "      <td>0.0</td>\n",
       "      <td>0.0</td>\n",
       "      <td>0.0</td>\n",
       "      <td>0.0</td>\n",
       "      <td>...</td>\n",
       "      <td>0.0</td>\n",
       "      <td>0.0</td>\n",
       "      <td>0.0</td>\n",
       "      <td>0.0</td>\n",
       "      <td>0.0</td>\n",
       "      <td>200.0</td>\n",
       "      <td>100.0</td>\n",
       "      <td>0.0</td>\n",
       "      <td>9600.0</td>\n",
       "      <td>0.0</td>\n",
       "    </tr>\n",
       "    <tr>\n",
       "      <th>1954</th>\n",
       "      <td>0.0</td>\n",
       "      <td>0.0</td>\n",
       "      <td>0.0</td>\n",
       "      <td>0.0</td>\n",
       "      <td>0.0</td>\n",
       "      <td>0.0</td>\n",
       "      <td>0.0</td>\n",
       "      <td>0.0</td>\n",
       "      <td>0.0</td>\n",
       "      <td>0.0</td>\n",
       "      <td>...</td>\n",
       "      <td>0.0</td>\n",
       "      <td>0.0</td>\n",
       "      <td>0.0</td>\n",
       "      <td>0.0</td>\n",
       "      <td>0.0</td>\n",
       "      <td>0.0</td>\n",
       "      <td>0.0</td>\n",
       "      <td>0.0</td>\n",
       "      <td>0.0</td>\n",
       "      <td>2200.0</td>\n",
       "    </tr>\n",
       "  </tbody>\n",
       "</table>\n",
       "<p>356 rows × 356 columns</p>\n",
       "</div>"
      ],
      "text/plain": [
       "        3       10       14      24       34     37      47     50     59    \\\n",
       "3     1100.0   500.0    300.0   100.0      0.0    0.0     0.0    0.0    0.0   \n",
       "10    1100.0  4300.0    900.0   400.0      0.0  100.0   200.0    0.0    0.0   \n",
       "14     900.0  1300.0  69300.0  1300.0    100.0  800.0  1700.0    0.0  800.0   \n",
       "24     100.0   200.0    100.0   700.0      0.0    0.0     0.0    0.0    0.0   \n",
       "34       0.0     0.0    100.0     0.0  32900.0    0.0   100.0  800.0    0.0   \n",
       "...      ...     ...      ...     ...      ...    ...     ...    ...    ...   \n",
       "1978     0.0     0.0      0.0     0.0      0.0    0.0     0.0    0.0    0.0   \n",
       "1960     0.0     0.0      0.0     0.0      0.0    0.0     0.0    0.0    0.0   \n",
       "1963     0.0     0.0      0.0     0.0      0.0    0.0     0.0    0.0    0.0   \n",
       "1959     0.0     0.0      0.0     0.0      0.0    0.0     0.0    0.0    0.0   \n",
       "1954     0.0     0.0      0.0     0.0      0.0    0.0     0.0    0.0    0.0   \n",
       "\n",
       "       60    ...   1949    1966   1961    1969   1970    1978    1960  \\\n",
       "3       0.0  ...    0.0   300.0    0.0     0.0    0.0     0.0     0.0   \n",
       "10    100.0  ...    0.0   800.0    0.0     0.0  100.0     0.0     0.0   \n",
       "14      0.0  ...  400.0  7600.0    0.0  7700.0  800.0     0.0     0.0   \n",
       "24      0.0  ...    0.0   200.0    0.0     0.0    0.0     0.0     0.0   \n",
       "34      0.0  ...    0.0     0.0    0.0     0.0    0.0     0.0     0.0   \n",
       "...     ...  ...    ...     ...    ...     ...    ...     ...     ...   \n",
       "1978    0.0  ...    0.0     0.0  800.0     0.0    0.0  5600.0   200.0   \n",
       "1960    0.0  ...    0.0     0.0  800.0     0.0    0.0   100.0  7400.0   \n",
       "1963    0.0  ...    0.0     0.0    0.0     0.0    0.0     0.0     0.0   \n",
       "1959    0.0  ...    0.0     0.0    0.0     0.0    0.0   200.0   100.0   \n",
       "1954    0.0  ...    0.0     0.0    0.0     0.0    0.0     0.0     0.0   \n",
       "\n",
       "         1963    1959    1954  \n",
       "3         0.0     0.0     0.0  \n",
       "10        0.0     0.0     0.0  \n",
       "14        0.0     0.0     0.0  \n",
       "24        0.0     0.0     0.0  \n",
       "34        0.0     0.0     0.0  \n",
       "...       ...     ...     ...  \n",
       "1978    100.0   300.0     0.0  \n",
       "1960      0.0   100.0     0.0  \n",
       "1963  15700.0     0.0     0.0  \n",
       "1959      0.0  9600.0     0.0  \n",
       "1954      0.0     0.0  2200.0  \n",
       "\n",
       "[356 rows x 356 columns]"
      ]
     },
     "execution_count": 37,
     "metadata": {},
     "output_type": "execute_result"
    }
   ],
   "source": [
    "com_matrix_14"
   ]
  },
  {
   "cell_type": "code",
   "execution_count": null,
   "id": "43878e91",
   "metadata": {},
   "outputs": [],
   "source": []
  }
 ],
 "metadata": {
  "kernelspec": {
   "display_name": "Python [conda env:RA] *",
   "language": "python",
   "name": "conda-env-RA-py"
  },
  "language_info": {
   "codemirror_mode": {
    "name": "ipython",
    "version": 3
   },
   "file_extension": ".py",
   "mimetype": "text/x-python",
   "name": "python",
   "nbconvert_exporter": "python",
   "pygments_lexer": "ipython3",
   "version": "3.9.12"
  }
 },
 "nbformat": 4,
 "nbformat_minor": 5
}
